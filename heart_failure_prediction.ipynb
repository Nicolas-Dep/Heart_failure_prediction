{
 "cells": [
  {
   "cell_type": "code",
   "execution_count": 112,
   "metadata": {},
   "outputs": [],
   "source": [
    "## Bibliotheques\n",
    "\n",
    "import numpy as np\n",
    "import pandas as pd\n",
    "import os\n",
    "import sklearn.pipeline\n",
    "from sklearn.model_selection import train_test_split\n",
    "from sklearn.feature_selection import SelectKBest\n",
    "from sklearn.ensemble import RandomForestClassifier\n",
    "from sklearn.svm import SVC\n",
    "\n",
    "## Rajouté\n",
    "\n",
    "import matplotlib.pyplot as plt \n",
    "from matplotlib.ticker import PercentFormatter\n",
    "from scipy.stats import ttest_ind\n",
    "from sklearn.preprocessing import StandardScaler\n",
    "\n",
    "import warnings\n",
    "warnings.filterwarnings('ignore')"
   ]
  },
  {
   "cell_type": "markdown",
   "metadata": {},
   "source": [
    "Chargement des données"
   ]
  },
  {
   "cell_type": "code",
   "execution_count": 113,
   "metadata": {},
   "outputs": [],
   "source": [
    "##  Chargement des donnees\n",
    "\n",
    "def root_directory():  ## Chemin global d'acces, à changer selon l'utilisateur, ne pas oublier d'inclure \"data\"\n",
    "    in_file = os.path.abspath(\"C:/Users/Maxence/Documents/Nico_Temporaire/Projet Fil rouge/code/heart.csv\")\n",
    "    return pd.read_csv(in_file)"
   ]
  },
  {
   "cell_type": "code",
   "execution_count": 114,
   "metadata": {},
   "outputs": [
    {
     "data": {
      "text/html": [
       "<div>\n",
       "<style scoped>\n",
       "    .dataframe tbody tr th:only-of-type {\n",
       "        vertical-align: middle;\n",
       "    }\n",
       "\n",
       "    .dataframe tbody tr th {\n",
       "        vertical-align: top;\n",
       "    }\n",
       "\n",
       "    .dataframe thead th {\n",
       "        text-align: right;\n",
       "    }\n",
       "</style>\n",
       "<table border=\"1\" class=\"dataframe\">\n",
       "  <thead>\n",
       "    <tr style=\"text-align: right;\">\n",
       "      <th></th>\n",
       "      <th>Age</th>\n",
       "      <th>Sex</th>\n",
       "      <th>ChestPainType</th>\n",
       "      <th>RestingBP</th>\n",
       "      <th>Cholesterol</th>\n",
       "      <th>FastingBS</th>\n",
       "      <th>RestingECG</th>\n",
       "      <th>MaxHR</th>\n",
       "      <th>ExerciseAngina</th>\n",
       "      <th>Oldpeak</th>\n",
       "      <th>ST_Slope</th>\n",
       "      <th>HeartDisease</th>\n",
       "    </tr>\n",
       "  </thead>\n",
       "  <tbody>\n",
       "    <tr>\n",
       "      <th>0</th>\n",
       "      <td>40</td>\n",
       "      <td>M</td>\n",
       "      <td>ATA</td>\n",
       "      <td>140</td>\n",
       "      <td>289</td>\n",
       "      <td>0</td>\n",
       "      <td>Normal</td>\n",
       "      <td>172</td>\n",
       "      <td>N</td>\n",
       "      <td>0.0</td>\n",
       "      <td>Up</td>\n",
       "      <td>0</td>\n",
       "    </tr>\n",
       "    <tr>\n",
       "      <th>1</th>\n",
       "      <td>49</td>\n",
       "      <td>F</td>\n",
       "      <td>NAP</td>\n",
       "      <td>160</td>\n",
       "      <td>180</td>\n",
       "      <td>0</td>\n",
       "      <td>Normal</td>\n",
       "      <td>156</td>\n",
       "      <td>N</td>\n",
       "      <td>1.0</td>\n",
       "      <td>Flat</td>\n",
       "      <td>1</td>\n",
       "    </tr>\n",
       "    <tr>\n",
       "      <th>2</th>\n",
       "      <td>37</td>\n",
       "      <td>M</td>\n",
       "      <td>ATA</td>\n",
       "      <td>130</td>\n",
       "      <td>283</td>\n",
       "      <td>0</td>\n",
       "      <td>ST</td>\n",
       "      <td>98</td>\n",
       "      <td>N</td>\n",
       "      <td>0.0</td>\n",
       "      <td>Up</td>\n",
       "      <td>0</td>\n",
       "    </tr>\n",
       "    <tr>\n",
       "      <th>3</th>\n",
       "      <td>48</td>\n",
       "      <td>F</td>\n",
       "      <td>ASY</td>\n",
       "      <td>138</td>\n",
       "      <td>214</td>\n",
       "      <td>0</td>\n",
       "      <td>Normal</td>\n",
       "      <td>108</td>\n",
       "      <td>Y</td>\n",
       "      <td>1.5</td>\n",
       "      <td>Flat</td>\n",
       "      <td>1</td>\n",
       "    </tr>\n",
       "    <tr>\n",
       "      <th>4</th>\n",
       "      <td>54</td>\n",
       "      <td>M</td>\n",
       "      <td>NAP</td>\n",
       "      <td>150</td>\n",
       "      <td>195</td>\n",
       "      <td>0</td>\n",
       "      <td>Normal</td>\n",
       "      <td>122</td>\n",
       "      <td>N</td>\n",
       "      <td>0.0</td>\n",
       "      <td>Up</td>\n",
       "      <td>0</td>\n",
       "    </tr>\n",
       "  </tbody>\n",
       "</table>\n",
       "</div>"
      ],
      "text/plain": [
       "   Age Sex ChestPainType  RestingBP  Cholesterol  FastingBS RestingECG  MaxHR  \\\n",
       "0   40   M           ATA        140          289          0     Normal    172   \n",
       "1   49   F           NAP        160          180          0     Normal    156   \n",
       "2   37   M           ATA        130          283          0         ST     98   \n",
       "3   48   F           ASY        138          214          0     Normal    108   \n",
       "4   54   M           NAP        150          195          0     Normal    122   \n",
       "\n",
       "  ExerciseAngina  Oldpeak ST_Slope  HeartDisease  \n",
       "0              N      0.0       Up             0  \n",
       "1              N      1.0     Flat             1  \n",
       "2              N      0.0       Up             0  \n",
       "3              Y      1.5     Flat             1  \n",
       "4              N      0.0       Up             0  "
      ]
     },
     "execution_count": 114,
     "metadata": {},
     "output_type": "execute_result"
    }
   ],
   "source": [
    "## On récupère les données d'entrainement dans un DataFrame pandas\n",
    "data = root_directory()\n",
    "data.head()  ## On affiche le début du DataFrame afin de vérifier le bon chargement"
   ]
  },
  {
   "cell_type": "code",
   "execution_count": 115,
   "metadata": {},
   "outputs": [
    {
     "data": {
      "text/plain": [
       "Age               0\n",
       "Sex               0\n",
       "ChestPainType     0\n",
       "RestingBP         0\n",
       "Cholesterol       0\n",
       "FastingBS         0\n",
       "RestingECG        0\n",
       "MaxHR             0\n",
       "ExerciseAngina    0\n",
       "Oldpeak           0\n",
       "ST_Slope          0\n",
       "HeartDisease      0\n",
       "dtype: int64"
      ]
     },
     "execution_count": 115,
     "metadata": {},
     "output_type": "execute_result"
    }
   ],
   "source": [
    "data.isna().sum()"
   ]
  },
  {
   "cell_type": "markdown",
   "metadata": {},
   "source": [
    "On n'a aucune valeur manquante donc aucune action à faire sur le dataset"
   ]
  },
  {
   "cell_type": "code",
   "execution_count": 116,
   "metadata": {},
   "outputs": [],
   "source": [
    "target = 'HeartDisease'  ## Ici la target est la feature 'condition'\n",
    "hrv_features = list(data)  ## On fait une liste à partir de la DataFrame d'entrainement \n",
    "hrv_features = [x for x in hrv_features if x not in [target]]  ## On y élimine la target\n",
    "X = data[hrv_features]\n",
    "y = data.HeartDisease"
   ]
  },
  {
   "cell_type": "markdown",
   "metadata": {},
   "source": [
    "On vérifie maintenant le type des valeurs de chaques features pour faires les transformations nécessaires"
   ]
  },
  {
   "cell_type": "code",
   "execution_count": 117,
   "metadata": {},
   "outputs": [
    {
     "name": "stdout",
     "output_type": "stream",
     "text": [
      "Feature: Age\n",
      "count    918.000000\n",
      "mean      53.510893\n",
      "std        9.432617\n",
      "min       28.000000\n",
      "25%       47.000000\n",
      "50%       54.000000\n",
      "75%       60.000000\n",
      "max       77.000000\n",
      "Name: Age, dtype: float64\n",
      "Feature: Sex\n",
      "count     918\n",
      "unique      2\n",
      "top         M\n",
      "freq      725\n",
      "Name: Sex, dtype: object\n",
      "Feature: ChestPainType\n",
      "count     918\n",
      "unique      4\n",
      "top       ASY\n",
      "freq      496\n",
      "Name: ChestPainType, dtype: object\n",
      "Feature: RestingBP\n",
      "count    918.000000\n",
      "mean     132.396514\n",
      "std       18.514154\n",
      "min        0.000000\n",
      "25%      120.000000\n",
      "50%      130.000000\n",
      "75%      140.000000\n",
      "max      200.000000\n",
      "Name: RestingBP, dtype: float64\n",
      "Feature: Cholesterol\n",
      "count    918.000000\n",
      "mean     198.799564\n",
      "std      109.384145\n",
      "min        0.000000\n",
      "25%      173.250000\n",
      "50%      223.000000\n",
      "75%      267.000000\n",
      "max      603.000000\n",
      "Name: Cholesterol, dtype: float64\n",
      "Feature: FastingBS\n",
      "count    918.000000\n",
      "mean       0.233115\n",
      "std        0.423046\n",
      "min        0.000000\n",
      "25%        0.000000\n",
      "50%        0.000000\n",
      "75%        0.000000\n",
      "max        1.000000\n",
      "Name: FastingBS, dtype: float64\n",
      "Feature: RestingECG\n",
      "count        918\n",
      "unique         3\n",
      "top       Normal\n",
      "freq         552\n",
      "Name: RestingECG, dtype: object\n",
      "Feature: MaxHR\n",
      "count    918.000000\n",
      "mean     136.809368\n",
      "std       25.460334\n",
      "min       60.000000\n",
      "25%      120.000000\n",
      "50%      138.000000\n",
      "75%      156.000000\n",
      "max      202.000000\n",
      "Name: MaxHR, dtype: float64\n",
      "Feature: ExerciseAngina\n",
      "count     918\n",
      "unique      2\n",
      "top         N\n",
      "freq      547\n",
      "Name: ExerciseAngina, dtype: object\n",
      "Feature: Oldpeak\n",
      "count    918.000000\n",
      "mean       0.887364\n",
      "std        1.066570\n",
      "min       -2.600000\n",
      "25%        0.000000\n",
      "50%        0.600000\n",
      "75%        1.500000\n",
      "max        6.200000\n",
      "Name: Oldpeak, dtype: float64\n",
      "Feature: ST_Slope\n",
      "count      918\n",
      "unique       3\n",
      "top       Flat\n",
      "freq       460\n",
      "Name: ST_Slope, dtype: object\n"
     ]
    }
   ],
   "source": [
    "for feature in hrv_features:\n",
    "  print(\"Feature:\",feature)\n",
    "  print(data[feature].describe())"
   ]
  },
  {
   "cell_type": "markdown",
   "metadata": {},
   "source": [
    "On va donc devoir numériser les features Sex, ChestPaintype, RestingECG, ExercseAngina and ST_Slope"
   ]
  },
  {
   "cell_type": "markdown",
   "metadata": {},
   "source": [
    "On identifie les valeurs pour ces objets"
   ]
  },
  {
   "cell_type": "code",
   "execution_count": 118,
   "metadata": {},
   "outputs": [
    {
     "name": "stdout",
     "output_type": "stream",
     "text": [
      "Sex:  ['M' 'F']\n",
      "ChestPainType:  ['ATA' 'NAP' 'ASY' 'TA']\n",
      "RestingECG:  ['Normal' 'ST' 'LVH']\n",
      "ExerciseAngina:  ['N' 'Y']\n",
      "ST_Slope:  ['Up' 'Flat' 'Down']\n"
     ]
    }
   ],
   "source": [
    "print('Sex: ', X['Sex'].unique())\n",
    "print('ChestPainType: ' , X['ChestPainType'].unique())\n",
    "print('RestingECG: ', X['RestingECG'].unique())\n",
    "print('ExerciseAngina: ', X['ExerciseAngina'].unique())\n",
    "print('ST_Slope: ', X['ST_Slope'].unique())"
   ]
  },
  {
   "cell_type": "markdown",
   "metadata": {},
   "source": [
    "Numérisation avec la fonctin map"
   ]
  },
  {
   "cell_type": "code",
   "execution_count": 119,
   "metadata": {},
   "outputs": [],
   "source": [
    "X['Sex'] = X['Sex'].map({'M':0,'F':1})\n",
    "X['ChestPainType'] = X['ChestPainType'].map({'ATA':0,'NAP':1,'ASY':2,'TA':3})\n",
    "X['RestingECG'] = X['RestingECG'].map({'Normal':0,'ST':1,'LVH':2})\n",
    "X['ExerciseAngina'] = X['ExerciseAngina'].map({'N':0,'Y':1})\n",
    "X['ST_Slope'] = X['ST_Slope'].map({'Up':0,'Flat':1,'Down':2})"
   ]
  },
  {
   "cell_type": "markdown",
   "metadata": {},
   "source": [
    "On vérifie que toutes les données sont bien de type numérique"
   ]
  },
  {
   "cell_type": "code",
   "execution_count": 120,
   "metadata": {},
   "outputs": [
    {
     "name": "stdout",
     "output_type": "stream",
     "text": [
      "Feature: Age\n",
      "count    918.000000\n",
      "mean      53.510893\n",
      "std        9.432617\n",
      "min       28.000000\n",
      "25%       47.000000\n",
      "50%       54.000000\n",
      "75%       60.000000\n",
      "max       77.000000\n",
      "Name: Age, dtype: float64\n",
      "Feature: Sex\n",
      "count    918.000000\n",
      "mean       0.210240\n",
      "std        0.407701\n",
      "min        0.000000\n",
      "25%        0.000000\n",
      "50%        0.000000\n",
      "75%        0.000000\n",
      "max        1.000000\n",
      "Name: Sex, dtype: float64\n",
      "Feature: ChestPainType\n",
      "count    918.000000\n",
      "mean       1.452070\n",
      "std        0.851832\n",
      "min        0.000000\n",
      "25%        1.000000\n",
      "50%        2.000000\n",
      "75%        2.000000\n",
      "max        3.000000\n",
      "Name: ChestPainType, dtype: float64\n",
      "Feature: RestingBP\n",
      "count    918.000000\n",
      "mean     132.396514\n",
      "std       18.514154\n",
      "min        0.000000\n",
      "25%      120.000000\n",
      "50%      130.000000\n",
      "75%      140.000000\n",
      "max      200.000000\n",
      "Name: RestingBP, dtype: float64\n",
      "Feature: Cholesterol\n",
      "count    918.000000\n",
      "mean     198.799564\n",
      "std      109.384145\n",
      "min        0.000000\n",
      "25%      173.250000\n",
      "50%      223.000000\n",
      "75%      267.000000\n",
      "max      603.000000\n",
      "Name: Cholesterol, dtype: float64\n",
      "Feature: FastingBS\n",
      "count    918.000000\n",
      "mean       0.233115\n",
      "std        0.423046\n",
      "min        0.000000\n",
      "25%        0.000000\n",
      "50%        0.000000\n",
      "75%        0.000000\n",
      "max        1.000000\n",
      "Name: FastingBS, dtype: float64\n",
      "Feature: RestingECG\n",
      "count    918.000000\n",
      "mean       0.603486\n",
      "std        0.805968\n",
      "min        0.000000\n",
      "25%        0.000000\n",
      "50%        0.000000\n",
      "75%        1.000000\n",
      "max        2.000000\n",
      "Name: RestingECG, dtype: float64\n",
      "Feature: MaxHR\n",
      "count    918.000000\n",
      "mean     136.809368\n",
      "std       25.460334\n",
      "min       60.000000\n",
      "25%      120.000000\n",
      "50%      138.000000\n",
      "75%      156.000000\n",
      "max      202.000000\n",
      "Name: MaxHR, dtype: float64\n",
      "Feature: ExerciseAngina\n",
      "count    918.000000\n",
      "mean       0.404139\n",
      "std        0.490992\n",
      "min        0.000000\n",
      "25%        0.000000\n",
      "50%        0.000000\n",
      "75%        1.000000\n",
      "max        1.000000\n",
      "Name: ExerciseAngina, dtype: float64\n",
      "Feature: Oldpeak\n",
      "count    918.000000\n",
      "mean       0.887364\n",
      "std        1.066570\n",
      "min       -2.600000\n",
      "25%        0.000000\n",
      "50%        0.600000\n",
      "75%        1.500000\n",
      "max        6.200000\n",
      "Name: Oldpeak, dtype: float64\n",
      "Feature: ST_Slope\n",
      "count    918.000000\n",
      "mean       0.638344\n",
      "std        0.607056\n",
      "min        0.000000\n",
      "25%        0.000000\n",
      "50%        1.000000\n",
      "75%        1.000000\n",
      "max        2.000000\n",
      "Name: ST_Slope, dtype: float64\n"
     ]
    }
   ],
   "source": [
    "for feature in hrv_features:\n",
    "  print(\"Feature:\",feature)\n",
    "  print(X[feature].describe())"
   ]
  },
  {
   "cell_type": "markdown",
   "metadata": {},
   "source": [
    "Séparation des features en fonction de la target"
   ]
  },
  {
   "cell_type": "code",
   "execution_count": 121,
   "metadata": {},
   "outputs": [],
   "source": [
    "class_failure = 1\n",
    "class_no_failure = 0\n",
    "\n",
    "failure_risk = X[y == class_failure]\n",
    "failure_no_risk = X[y == class_no_failure]"
   ]
  },
  {
   "cell_type": "markdown",
   "metadata": {},
   "source": [
    "On utilise des histogramme pour voir l'influence de chaque features pour différencier chaque classe"
   ]
  },
  {
   "cell_type": "code",
   "execution_count": 122,
   "metadata": {},
   "outputs": [
    {
     "data": {
      "text/plain": [
       "[]"
      ]
     },
     "execution_count": 122,
     "metadata": {},
     "output_type": "execute_result"
    },
    {
     "data": {
      "image/png": "[encoded data removed]",
      "text/plain": [
       "<Figure size 1500x2000 with 12 Axes>"
      ]
     },
     "metadata": {},
     "output_type": "display_data"
    }
   ],
   "source": [
    "## Avec la suppression de \"target\" afin d'avoir nos données d'entrainements, le nombre d'éléments restant est impaire, nous rajoutons donc '+1' à la taille de 'hrv_features'\n",
    "fig, axes = plt.subplots(int(len(X.columns) /2 +1), 2, figsize = (15,20)) ## Met en place les bases des graphes\n",
    "\n",
    "axes = axes.ravel()\n",
    "for i, feature in enumerate(X.columns): ## Pour chaque feature\n",
    "  axes[i].set_title(feature) ## On nomme la figure par sa feature\n",
    "  ## Le label alpha permet de voir la superposition des données, weights rend ici le graphe plus lisible\n",
    "  axes[i].hist(failure_risk[feature], color='red', label=\"Risque d'attaque\",  weights=np.ones(len(failure_risk)) / len(failure_risk)) \n",
    "  axes[i].hist(failure_no_risk[feature], color='blue', alpha=0.5, label=\"Pas risque d'attaque\",  weights=np.ones(len(failure_no_risk)) / len(attack_no_risk)) \n",
    "  axes[i].yaxis.set_major_formatter(PercentFormatter(1)) ## On formatte les valeurs afin de rendre le graphe plus lisible\n",
    "axes[0].set_xlabel(\"Feature range\") ## Commentaire abscisses\n",
    "axes[0].set_ylabel(\"Frequency\") ## Commentaire ordonnée\n",
    "axes[0].legend() ## Legendes\n",
    "plt.tight_layout() ## Donne un padding adapté\n",
    "plt.plot() ## On affiche les graphes"
   ]
  },
  {
   "cell_type": "markdown",
   "metadata": {},
   "source": [
    "On peut remarquer l'influence des certaines features, on va confirmer ça avec un test d'indépendance et de corrélation"
   ]
  },
  {
   "cell_type": "code",
   "execution_count": 123,
   "metadata": {},
   "outputs": [
    {
     "name": "stdout",
     "output_type": "stream",
     "text": [
      "3:  []\n"
     ]
    }
   ],
   "source": [
    "## Afin d'éviter des données trop proches, l'usage des données dans leur entiereté via ConcatX pour créer les 3 dataframes de target est nécessaire\n",
    "liste = [] ## Liste recueillant les features dépendantes entre les 3 types de target \n",
    "for feature in X.columns: ## Pour chaque feature restante\n",
    "    cpt = 0 ## Compteur déterminant si la feature est indépendante entre les 3 ou seulement entre 2\n",
    "    t_test = ttest_ind(failure_no_risk[feature], failure_risk[feature]) ## Test d'indépendance entre no_stress et interruption\n",
    "    if t_test.pvalue > 0.5: ## Si il y'a plus de 50% de dépendances, on affiche ses informations\n",
    "        print(\"Pour Heart Failure et No Heart Failure\")\n",
    "        print(\"Pour la feature:\", feature)\n",
    "        print(\" - t-statistic:\", np.around(t_test.statistic, 3))\n",
    "        print(\" - p_value :\", np.around(t_test.pvalue, 3))\n",
    "        liste.append(feature)\n",
    "print(\"3: \",liste)"
   ]
  },
  {
   "cell_type": "markdown",
   "metadata": {},
   "source": [
    "Aucune features ne sortent de ce test d'independance, on garde donc toutes les features"
   ]
  },
  {
   "cell_type": "code",
   "execution_count": 124,
   "metadata": {},
   "outputs": [
    {
     "name": "stdout",
     "output_type": "stream",
     "text": [
      "ST_Slope\n",
      "Oldpeak\n",
      "ExerciseAngina\n",
      "MaxHR\n",
      "RestingECG\n",
      "FastingBS\n",
      "Cholesterol\n",
      "RestingBP\n",
      "ChestPainType\n",
      "Sex\n",
      "Age\n",
      "- ['Age', 'Sex', 'ChestPainType', 'RestingBP', 'Cholesterol', 'FastingBS', 'RestingECG', 'MaxHR', 'ExerciseAngina', 'Oldpeak', 'ST_Slope']\n"
     ]
    }
   ],
   "source": [
    "from scipy.stats import pearsonr\n",
    "\n",
    "kept_columns = X.columns.to_list() ## On créé une liste à partir de nos features restantes\n",
    "\n",
    "for i in range(len(kept_columns) - 1,-1,-1):\n",
    "  print(kept_columns[i])\n",
    "  for j in range(i - 1,-1,-1):\n",
    "    corr, p_value = pearsonr(X[kept_columns[i]],X[kept_columns[j]]) ## Test de corrélation\n",
    "    if abs(corr) >= 0.8 and p_value < 0.05: ## Si il y'a corrélation\n",
    "      print(\" - Correlation de\",np.around(corr,3), \"- p_value: \",np.around(p_value,3),\"avec\",kept_columns[j])\n",
    "      del kept_columns[i] ## On supprime la feature de la liste\n",
    "      break\n",
    "\n",
    "print('-',kept_columns)"
   ]
  },
  {
   "cell_type": "markdown",
   "metadata": {},
   "source": [
    "Les 11 features resortent de ce test de corrélations, notre dataset reste donc inchangé.\n",
    "\n",
    "Toutes les features ont leur importance"
   ]
  },
  {
   "cell_type": "markdown",
   "metadata": {},
   "source": [
    "## Mise en place d'un modèle"
   ]
  },
  {
   "cell_type": "markdown",
   "metadata": {},
   "source": [
    "Nous avons des données labélisées, nous allons donc faire de l'apprentissage supervisé"
   ]
  },
  {
   "cell_type": "code",
   "execution_count": 125,
   "metadata": {},
   "outputs": [],
   "source": [
    "## Bibliothèques\n",
    "\n",
    "from sklearn.preprocessing import StandardScaler\n",
    "from sklearn.metrics import rand_score\n",
    "from sklearn.model_selection import train_test_split\n",
    "from sklearn.linear_model import LinearRegression\n",
    "from sklearn.ensemble import RandomForestClassifier\n",
    "from sklearn.svm import SVC\n",
    "from sklearn.metrics import confusion_matrix\n",
    "from sklearn.metrics import classification_report\n",
    "import matplotlib.pyplot as plt\n",
    "import numpy as np\n",
    "import pandas as pd\n",
    "from subprocess import call\n",
    "from IPython.display import Image\n",
    "from sklearn.model_selection import RandomizedSearchCV,GridSearchCV\n",
    "from sklearn.tree import DecisionTreeClassifier\n",
    "from sklearn.tree import export_graphviz\n",
    "from six import StringIO  \n",
    "from IPython.display import Image  \n",
    "import pydotplus\n",
    "from sklearn.ensemble import GradientBoostingClassifier, GradientBoostingRegressor\n",
    "from sklearn.datasets import make_classification, make_regression\n",
    "from sklearn import metrics\n",
    "\n",
    "#Pour regression logistique \n",
    "from sklearn import model_selection\n",
    "from sklearn.linear_model import LogisticRegression\n",
    "from sklearn.metrics import confusion_matrix,classification_report,accuracy_score,roc_auc_score"
   ]
  },
  {
   "cell_type": "markdown",
   "metadata": {},
   "source": [
    "Définition des deux labels"
   ]
  },
  {
   "cell_type": "code",
   "execution_count": 126,
   "metadata": {},
   "outputs": [],
   "source": [
    "label_name = ['Heart Failure No Risk','Heart Failure Risk']"
   ]
  },
  {
   "cell_type": "markdown",
   "metadata": {},
   "source": [
    "Définition de fonctions pour afficher les résultats de certains modèles"
   ]
  },
  {
   "cell_type": "code",
   "execution_count": 127,
   "metadata": {},
   "outputs": [],
   "source": [
    "# Fonction pour faciliter la visualisation de la matrice de confusion\n",
    "def plot_confusion_matrix(cm, class_labels=None, title='Confusion Matrix', cmap=plt.cm.Blues):\n",
    "\n",
    "  plt.matshow(cm, cmap=cmap, alpha=0.3)\n",
    "  for i in range(cm.shape[0]):\n",
    "      for j in range(cm.shape[1]):\n",
    "          plt.text(x=j, y=i,s=cm[i, j], va='center', ha='center', size='xx-large')\n",
    "\n",
    "  plt.xlabel('Predictions', fontsize=18)\n",
    "  plt.ylabel('Vraies classes', fontsize=18)\n",
    "  plt.title(title, fontsize=18)\n",
    "\n",
    "# Fonction pour visualiser un estimator d'un random tree forest\n",
    "\n",
    "def get_estimator_visualisation(estimator, kept_columns, label_name):\n",
    "  # Export as dot file\n",
    "  export_graphviz(estimator, out_file='tree.dot',\n",
    "                  feature_names = kept_columns,\n",
    "                  class_names = label_name,\n",
    "                  rounded = True, proportion = False,\n",
    "                  precision = 2, filled = True)\n",
    "\n",
    "  # Convert to png using system command (requires Graphviz)\n",
    "  call(['dot', '-Tpng', 'tree.dot', '-o', 'tree.png', '-Gdpi=600'])\n",
    "\n",
    "  # Display in jupyter notebook, not working in google collab\n",
    "  Image(filename = 'tree.png')\n",
    "\n",
    "\n",
    "def get_SVC_visualiser(X_2d):\n",
    "  x_min, x_max = X_2d[:, 0].min() - 1, X_2d[:, 0].max() + 1\n",
    "  y_min, y_max = X_2d[:, 1].min() - 1, X_2d[:, 1].max() + 1\n",
    "  h = 0.02  # Mesh step size\n",
    "  xx, yy = np.meshgrid(np.arange(x_min, x_max, h), np.arange(y_min, y_max, h))\n"
   ]
  },
  {
   "cell_type": "markdown",
   "metadata": {},
   "source": [
    "#### Split des données entre celles d'entrainement et de test"
   ]
  },
  {
   "cell_type": "code",
   "execution_count": 128,
   "metadata": {},
   "outputs": [],
   "source": [
    "X_train, X_test, y_train, y_test = train_test_split(X,y,test_size=0.2,random_state=42)"
   ]
  },
  {
   "cell_type": "markdown",
   "metadata": {},
   "source": [
    "On normalise les données pour réduire le temps d'éxecution de l'algorithme. cela influence aussi la performance des algorithme de classification par distance (non tree) comme SVC"
   ]
  },
  {
   "cell_type": "code",
   "execution_count": 129,
   "metadata": {},
   "outputs": [],
   "source": [
    "from sklearn.preprocessing import StandardScaler\n",
    "\n",
    "scaler = StandardScaler()\n",
    "\n",
    "X_norm = scaler.fit_transform(X)\n",
    "X_train_norm = scaler.fit_transform(X_train)\n",
    "X_test_norm = scaler.transform(X_test)"
   ]
  },
  {
   "cell_type": "markdown",
   "metadata": {},
   "source": [
    "### Tests des algorithmes des algorithmes de classifications sans arbres"
   ]
  },
  {
   "cell_type": "markdown",
   "metadata": {},
   "source": [
    "#### Regression Logistique"
   ]
  },
  {
   "cell_type": "code",
   "execution_count": 157,
   "metadata": {},
   "outputs": [
    {
     "name": "stdout",
     "output_type": "stream",
     "text": [
      "LogisticRegression(C=0.3, random_state=42)\n"
     ]
    },
    {
     "data": {
      "text/plain": [
       "0.8341346153846152"
      ]
     },
     "execution_count": 157,
     "metadata": {},
     "output_type": "execute_result"
    }
   ],
   "source": [
    "from sklearn.linear_model import LogisticRegression\n",
    "from sklearn import metrics\n",
    "\n",
    "# On prépare les hyperparamètres\n",
    "param_grid = {'penalty': ['l1', 'l2', 'none'], 'C': [0.001, 0.01, 0.02, 0.03, 0.05, 0.08, 0.1, 0.2, 0.3, 0.5, 1, 10]}\n",
    "\n",
    "# On effectue la régression logistique\n",
    "model_logistic = LogisticRegression(random_state=42, fit_intercept=True)\n",
    "search = GridSearchCV(model_logistic, param_grid, scoring='accuracy', cv=5) \n",
    "search.fit(X_train_norm, y_train) # On fit\n",
    "\n",
    "model_logistic = search.best_estimator_ # On récupère ici le meilleur estimateur obtenue après test\n",
    "print(search.best_estimator_)\n",
    "y_test_pred = model_logistic.predict(X_test_norm) # On prédit y_test d'après X_test en utilisant la régression logistique\n",
    "metrics.f1_score(y_test, y_test_pred, average='macro') # Test métrique F1 score"
   ]
  },
  {
   "cell_type": "code",
   "execution_count": 158,
   "metadata": {},
   "outputs": [
    {
     "data": {
      "image/png": "[encoded data removed]",
      "text/plain": [
       "<Figure size 480x480 with 1 Axes>"
      ]
     },
     "metadata": {},
     "output_type": "display_data"
    }
   ],
   "source": [
    "plot_confusion_matrix(confusion_matrix(y_test, y_test_pred))"
   ]
  },
  {
   "cell_type": "markdown",
   "metadata": {},
   "source": [
    "#### SVC"
   ]
  },
  {
   "cell_type": "markdown",
   "metadata": {},
   "source": [
    "On teste les kernels rbf, linear et poly et linear renvoie les meilleurs résultats"
   ]
  },
  {
   "cell_type": "code",
   "execution_count": 159,
   "metadata": {},
   "outputs": [
    {
     "name": "stdout",
     "output_type": "stream",
     "text": [
      "SVC(C=1, gamma=0, kernel='linear', random_state=42)\n",
      "0.8341346153846152\n",
      "Rapport d'entrainement pour le random tree forest classifier\n",
      "                       precision    recall  f1-score   support\n",
      "\n",
      "Heart Failure No Risk       0.78      0.84      0.81        77\n",
      "   Heart Failure Risk       0.88      0.83      0.86       107\n",
      "\n",
      "             accuracy                           0.84       184\n",
      "            macro avg       0.83      0.84      0.83       184\n",
      "         weighted avg       0.84      0.84      0.84       184\n",
      "\n"
     ]
    },
    {
     "data": {
      "image/png": "[encoded data removed]",
      "text/plain": [
       "<Figure size 480x480 with 1 Axes>"
      ]
     },
     "metadata": {},
     "output_type": "display_data"
    }
   ],
   "source": [
    "\n",
    "param_grid = {'gamma': [0, 0.01, 0.05, 0.1, 0.5, 1, 2], 'C': [0.1, 0.5, 1, 2, 5, 10, 25, 50]} \n",
    "model_SVC = SVC(kernel=\"linear\", random_state=42)\n",
    "search = GridSearchCV(model_SVC, param_grid, scoring='accuracy', cv=5) \n",
    "search.fit(X_train_norm, y_train) # On fit\n",
    "\n",
    "model_SVC = search.best_estimator_ # On récupère ici le meilleur estimateur obtenue après test\n",
    "print(search.best_estimator_)\n",
    "y_test_pred = model_SVC.predict(X_test_norm) # On prédit y_test d'après X_test en utilisant le SVC\n",
    "\n",
    "print(metrics.f1_score(y_test, y_test_pred, average='macro')) # Test métrique F1 score\n",
    "\n",
    "\n",
    "accuracy = model_SVC.score(X_test_norm, y_test)\n",
    "\n",
    "report = classification_report(y_test,y_test_pred,target_names = label_name)\n",
    "print(\"Rapport d'entrainement pour le random tree forest classifier\")\n",
    "print(report)\n",
    "\n",
    "plot_confusion_matrix(confusion_matrix(y_test, y_test_pred))"
   ]
  },
  {
   "cell_type": "markdown",
   "metadata": {},
   "source": [
    "#### Cat Boost"
   ]
  },
  {
   "cell_type": "markdown",
   "metadata": {},
   "source": [
    "pip install catboost"
   ]
  },
  {
   "cell_type": "code",
   "execution_count": 162,
   "metadata": {},
   "outputs": [
    {
     "name": "stdout",
     "output_type": "stream",
     "text": [
      "0:\tlearn: 0.3076754\ttotal: 64.7ms\tremaining: 32.3s\n",
      "1:\tlearn: 0.1694533\ttotal: 125ms\tremaining: 31.1s\n",
      "2:\tlearn: 0.1073191\ttotal: 187ms\tremaining: 30.9s\n",
      "3:\tlearn: 0.0787162\ttotal: 246ms\tremaining: 30.5s\n",
      "4:\tlearn: 0.0621063\ttotal: 313ms\tremaining: 31s\n",
      "5:\tlearn: 0.0476473\ttotal: 385ms\tremaining: 31.7s\n",
      "6:\tlearn: 0.0393448\ttotal: 446ms\tremaining: 31.4s\n",
      "7:\tlearn: 0.0334123\ttotal: 504ms\tremaining: 31s\n",
      "8:\tlearn: 0.0285005\ttotal: 564ms\tremaining: 30.8s\n",
      "9:\tlearn: 0.0250264\ttotal: 627ms\tremaining: 30.7s\n",
      "10:\tlearn: 0.0223790\ttotal: 688ms\tremaining: 30.6s\n",
      "11:\tlearn: 0.0197940\ttotal: 748ms\tremaining: 30.4s\n",
      "12:\tlearn: 0.0178497\ttotal: 810ms\tremaining: 30.4s\n",
      "13:\tlearn: 0.0164253\ttotal: 877ms\tremaining: 30.4s\n",
      "14:\tlearn: 0.0151698\ttotal: 940ms\tremaining: 30.4s\n",
      "15:\tlearn: 0.0141349\ttotal: 1s\tremaining: 30.4s\n",
      "16:\tlearn: 0.0130612\ttotal: 1.07s\tremaining: 30.3s\n",
      "17:\tlearn: 0.0121697\ttotal: 1.12s\tremaining: 30.1s\n",
      "18:\tlearn: 0.0113819\ttotal: 1.18s\tremaining: 29.9s\n",
      "19:\tlearn: 0.0107289\ttotal: 1.24s\tremaining: 29.7s\n",
      "20:\tlearn: 0.0101402\ttotal: 1.3s\tremaining: 29.6s\n",
      "21:\tlearn: 0.0096116\ttotal: 1.36s\tremaining: 29.5s\n",
      "22:\tlearn: 0.0090294\ttotal: 1.42s\tremaining: 29.4s\n",
      "23:\tlearn: 0.0085888\ttotal: 1.47s\tremaining: 29.2s\n",
      "24:\tlearn: 0.0082230\ttotal: 1.53s\tremaining: 29.1s\n",
      "25:\tlearn: 0.0078530\ttotal: 1.59s\tremaining: 29.1s\n",
      "26:\tlearn: 0.0075731\ttotal: 1.65s\tremaining: 29s\n",
      "27:\tlearn: 0.0072336\ttotal: 1.71s\tremaining: 28.9s\n",
      "28:\tlearn: 0.0069586\ttotal: 1.77s\tremaining: 28.8s\n",
      "29:\tlearn: 0.0067145\ttotal: 1.84s\tremaining: 28.8s\n",
      "30:\tlearn: 0.0064867\ttotal: 1.9s\tremaining: 28.8s\n",
      "31:\tlearn: 0.0062672\ttotal: 1.96s\tremaining: 28.7s\n",
      "32:\tlearn: 0.0060526\ttotal: 2.02s\tremaining: 28.7s\n",
      "33:\tlearn: 0.0058747\ttotal: 2.08s\tremaining: 28.5s\n",
      "34:\tlearn: 0.0057065\ttotal: 2.14s\tremaining: 28.4s\n",
      "35:\tlearn: 0.0055555\ttotal: 2.2s\tremaining: 28.4s\n",
      "36:\tlearn: 0.0053835\ttotal: 2.26s\tremaining: 28.3s\n",
      "37:\tlearn: 0.0052113\ttotal: 2.33s\tremaining: 28.4s\n",
      "38:\tlearn: 0.0050543\ttotal: 2.39s\tremaining: 28.3s\n",
      "39:\tlearn: 0.0049147\ttotal: 2.46s\tremaining: 28.2s\n",
      "40:\tlearn: 0.0047654\ttotal: 2.52s\tremaining: 28.2s\n",
      "41:\tlearn: 0.0046526\ttotal: 2.59s\tremaining: 28.2s\n",
      "42:\tlearn: 0.0045211\ttotal: 2.66s\tremaining: 28.3s\n",
      "43:\tlearn: 0.0044243\ttotal: 2.74s\tremaining: 28.4s\n",
      "44:\tlearn: 0.0043278\ttotal: 2.82s\tremaining: 28.5s\n",
      "45:\tlearn: 0.0042338\ttotal: 2.9s\tremaining: 28.7s\n",
      "46:\tlearn: 0.0041360\ttotal: 2.99s\tremaining: 28.8s\n",
      "47:\tlearn: 0.0040378\ttotal: 3.06s\tremaining: 28.8s\n",
      "48:\tlearn: 0.0039559\ttotal: 3.12s\tremaining: 28.8s\n",
      "49:\tlearn: 0.0038799\ttotal: 3.19s\tremaining: 28.7s\n",
      "50:\tlearn: 0.0037957\ttotal: 3.27s\tremaining: 28.8s\n",
      "51:\tlearn: 0.0037214\ttotal: 3.35s\tremaining: 28.9s\n",
      "52:\tlearn: 0.0036584\ttotal: 3.42s\tremaining: 28.9s\n",
      "53:\tlearn: 0.0035882\ttotal: 3.49s\tremaining: 28.8s\n",
      "54:\tlearn: 0.0035165\ttotal: 3.56s\tremaining: 28.8s\n",
      "55:\tlearn: 0.0034492\ttotal: 3.63s\tremaining: 28.8s\n",
      "56:\tlearn: 0.0033942\ttotal: 3.71s\tremaining: 28.8s\n",
      "57:\tlearn: 0.0033404\ttotal: 3.77s\tremaining: 28.8s\n",
      "58:\tlearn: 0.0032852\ttotal: 3.83s\tremaining: 28.7s\n",
      "59:\tlearn: 0.0032353\ttotal: 3.91s\tremaining: 28.7s\n",
      "60:\tlearn: 0.0031738\ttotal: 3.98s\tremaining: 28.7s\n",
      "61:\tlearn: 0.0031032\ttotal: 4.04s\tremaining: 28.5s\n",
      "62:\tlearn: 0.0030508\ttotal: 4.1s\tremaining: 28.4s\n",
      "63:\tlearn: 0.0029985\ttotal: 4.16s\tremaining: 28.4s\n",
      "64:\tlearn: 0.0029545\ttotal: 4.22s\tremaining: 28.3s\n",
      "65:\tlearn: 0.0029137\ttotal: 4.28s\tremaining: 28.2s\n",
      "66:\tlearn: 0.0028647\ttotal: 4.34s\tremaining: 28.1s\n",
      "67:\tlearn: 0.0028116\ttotal: 4.42s\tremaining: 28.1s\n",
      "68:\tlearn: 0.0027641\ttotal: 4.57s\tremaining: 28.6s\n",
      "69:\tlearn: 0.0027178\ttotal: 4.69s\tremaining: 28.8s\n",
      "70:\tlearn: 0.0026784\ttotal: 4.78s\tremaining: 28.9s\n",
      "71:\tlearn: 0.0026398\ttotal: 4.86s\tremaining: 28.9s\n",
      "72:\tlearn: 0.0025974\ttotal: 4.94s\tremaining: 28.9s\n",
      "73:\tlearn: 0.0025620\ttotal: 5.01s\tremaining: 28.8s\n",
      "74:\tlearn: 0.0025196\ttotal: 5.08s\tremaining: 28.8s\n",
      "75:\tlearn: 0.0024878\ttotal: 5.16s\tremaining: 28.8s\n",
      "76:\tlearn: 0.0024574\ttotal: 5.24s\tremaining: 28.8s\n",
      "77:\tlearn: 0.0024258\ttotal: 5.32s\tremaining: 28.8s\n",
      "78:\tlearn: 0.0023917\ttotal: 5.4s\tremaining: 28.8s\n",
      "79:\tlearn: 0.0023613\ttotal: 5.48s\tremaining: 28.8s\n",
      "80:\tlearn: 0.0023338\ttotal: 5.56s\tremaining: 28.8s\n",
      "81:\tlearn: 0.0023061\ttotal: 5.64s\tremaining: 28.8s\n",
      "82:\tlearn: 0.0022800\ttotal: 5.72s\tremaining: 28.7s\n",
      "83:\tlearn: 0.0022540\ttotal: 5.8s\tremaining: 28.7s\n",
      "84:\tlearn: 0.0022286\ttotal: 5.88s\tremaining: 28.7s\n",
      "85:\tlearn: 0.0022030\ttotal: 5.96s\tremaining: 28.7s\n",
      "86:\tlearn: 0.0021752\ttotal: 6.04s\tremaining: 28.7s\n",
      "87:\tlearn: 0.0021505\ttotal: 6.12s\tremaining: 28.6s\n",
      "88:\tlearn: 0.0021226\ttotal: 6.18s\tremaining: 28.5s\n",
      "89:\tlearn: 0.0021010\ttotal: 6.24s\tremaining: 28.4s\n",
      "90:\tlearn: 0.0020777\ttotal: 6.3s\tremaining: 28.3s\n",
      "91:\tlearn: 0.0020524\ttotal: 6.36s\tremaining: 28.2s\n",
      "92:\tlearn: 0.0020329\ttotal: 6.42s\tremaining: 28.1s\n",
      "93:\tlearn: 0.0020067\ttotal: 6.48s\tremaining: 28s\n",
      "94:\tlearn: 0.0019853\ttotal: 6.53s\tremaining: 27.9s\n",
      "95:\tlearn: 0.0019660\ttotal: 6.59s\tremaining: 27.7s\n",
      "96:\tlearn: 0.0019441\ttotal: 6.64s\tremaining: 27.6s\n",
      "97:\tlearn: 0.0019219\ttotal: 6.7s\tremaining: 27.5s\n",
      "98:\tlearn: 0.0019058\ttotal: 6.76s\tremaining: 27.4s\n",
      "99:\tlearn: 0.0018862\ttotal: 6.82s\tremaining: 27.3s\n",
      "100:\tlearn: 0.0018690\ttotal: 6.88s\tremaining: 27.2s\n",
      "101:\tlearn: 0.0018498\ttotal: 6.94s\tremaining: 27.1s\n",
      "102:\tlearn: 0.0018315\ttotal: 6.99s\tremaining: 27s\n",
      "103:\tlearn: 0.0018114\ttotal: 7.05s\tremaining: 26.9s\n",
      "104:\tlearn: 0.0017935\ttotal: 7.13s\tremaining: 26.8s\n",
      "105:\tlearn: 0.0017783\ttotal: 7.21s\tremaining: 26.8s\n",
      "106:\tlearn: 0.0017620\ttotal: 7.27s\tremaining: 26.7s\n",
      "107:\tlearn: 0.0017446\ttotal: 7.33s\tremaining: 26.6s\n",
      "108:\tlearn: 0.0017285\ttotal: 7.39s\tremaining: 26.5s\n",
      "109:\tlearn: 0.0017123\ttotal: 7.46s\tremaining: 26.4s\n",
      "110:\tlearn: 0.0016977\ttotal: 7.51s\tremaining: 26.3s\n",
      "111:\tlearn: 0.0016820\ttotal: 7.58s\tremaining: 26.3s\n",
      "112:\tlearn: 0.0016655\ttotal: 7.67s\tremaining: 26.3s\n",
      "113:\tlearn: 0.0016498\ttotal: 7.73s\tremaining: 26.2s\n",
      "114:\tlearn: 0.0016370\ttotal: 7.79s\tremaining: 26.1s\n",
      "115:\tlearn: 0.0016236\ttotal: 7.85s\tremaining: 26s\n",
      "116:\tlearn: 0.0016102\ttotal: 7.91s\tremaining: 25.9s\n",
      "117:\tlearn: 0.0015956\ttotal: 7.96s\tremaining: 25.8s\n",
      "118:\tlearn: 0.0015836\ttotal: 8.01s\tremaining: 25.7s\n",
      "119:\tlearn: 0.0015704\ttotal: 8.07s\tremaining: 25.6s\n",
      "120:\tlearn: 0.0015583\ttotal: 8.13s\tremaining: 25.5s\n",
      "121:\tlearn: 0.0015445\ttotal: 8.18s\tremaining: 25.3s\n",
      "122:\tlearn: 0.0015309\ttotal: 8.24s\tremaining: 25.2s\n",
      "123:\tlearn: 0.0015233\ttotal: 8.29s\tremaining: 25.1s\n",
      "124:\tlearn: 0.0015127\ttotal: 8.35s\tremaining: 25s\n",
      "125:\tlearn: 0.0015023\ttotal: 8.4s\tremaining: 24.9s\n",
      "126:\tlearn: 0.0014918\ttotal: 8.46s\tremaining: 24.8s\n",
      "127:\tlearn: 0.0014804\ttotal: 8.52s\tremaining: 24.8s\n",
      "128:\tlearn: 0.0014699\ttotal: 8.6s\tremaining: 24.7s\n",
      "129:\tlearn: 0.0014618\ttotal: 8.66s\tremaining: 24.7s\n",
      "130:\tlearn: 0.0014518\ttotal: 8.72s\tremaining: 24.6s\n",
      "131:\tlearn: 0.0014406\ttotal: 8.78s\tremaining: 24.5s\n",
      "132:\tlearn: 0.0014286\ttotal: 8.85s\tremaining: 24.4s\n",
      "133:\tlearn: 0.0014286\ttotal: 8.9s\tremaining: 24.3s\n",
      "134:\tlearn: 0.0014218\ttotal: 8.96s\tremaining: 24.2s\n",
      "135:\tlearn: 0.0014110\ttotal: 9.01s\tremaining: 24.1s\n",
      "136:\tlearn: 0.0014035\ttotal: 9.07s\tremaining: 24s\n",
      "137:\tlearn: 0.0013916\ttotal: 9.14s\tremaining: 24s\n",
      "138:\tlearn: 0.0013816\ttotal: 9.21s\tremaining: 23.9s\n",
      "139:\tlearn: 0.0013814\ttotal: 9.28s\tremaining: 23.9s\n",
      "140:\tlearn: 0.0013730\ttotal: 9.36s\tremaining: 23.8s\n",
      "141:\tlearn: 0.0013651\ttotal: 9.42s\tremaining: 23.8s\n",
      "142:\tlearn: 0.0013555\ttotal: 9.48s\tremaining: 23.7s\n",
      "143:\tlearn: 0.0013458\ttotal: 9.57s\tremaining: 23.7s\n",
      "144:\tlearn: 0.0013455\ttotal: 9.65s\tremaining: 23.6s\n",
      "145:\tlearn: 0.0013390\ttotal: 9.73s\tremaining: 23.6s\n",
      "146:\tlearn: 0.0013390\ttotal: 9.79s\tremaining: 23.5s\n",
      "147:\tlearn: 0.0013332\ttotal: 9.85s\tremaining: 23.4s\n",
      "148:\tlearn: 0.0013332\ttotal: 9.92s\tremaining: 23.4s\n",
      "149:\tlearn: 0.0013255\ttotal: 9.97s\tremaining: 23.3s\n",
      "150:\tlearn: 0.0013255\ttotal: 10s\tremaining: 23.2s\n",
      "151:\tlearn: 0.0013255\ttotal: 10.1s\tremaining: 23.1s\n",
      "152:\tlearn: 0.0013181\ttotal: 10.1s\tremaining: 23s\n",
      "153:\tlearn: 0.0013177\ttotal: 10.2s\tremaining: 22.9s\n",
      "154:\tlearn: 0.0013084\ttotal: 10.3s\tremaining: 22.8s\n",
      "155:\tlearn: 0.0013029\ttotal: 10.3s\tremaining: 22.8s\n",
      "156:\tlearn: 0.0012976\ttotal: 10.4s\tremaining: 22.7s\n",
      "157:\tlearn: 0.0012975\ttotal: 10.4s\tremaining: 22.6s\n",
      "158:\tlearn: 0.0012974\ttotal: 10.5s\tremaining: 22.5s\n",
      "159:\tlearn: 0.0012974\ttotal: 10.6s\tremaining: 22.4s\n",
      "160:\tlearn: 0.0012974\ttotal: 10.6s\tremaining: 22.3s\n",
      "161:\tlearn: 0.0012974\ttotal: 10.7s\tremaining: 22.3s\n",
      "162:\tlearn: 0.0012974\ttotal: 10.7s\tremaining: 22.2s\n",
      "163:\tlearn: 0.0012974\ttotal: 10.8s\tremaining: 22.1s\n",
      "164:\tlearn: 0.0012974\ttotal: 10.8s\tremaining: 22s\n",
      "165:\tlearn: 0.0012974\ttotal: 10.9s\tremaining: 21.9s\n",
      "166:\tlearn: 0.0012974\ttotal: 11s\tremaining: 21.8s\n",
      "167:\tlearn: 0.0012974\ttotal: 11s\tremaining: 21.8s\n",
      "168:\tlearn: 0.0012974\ttotal: 11.1s\tremaining: 21.7s\n",
      "169:\tlearn: 0.0012974\ttotal: 11.2s\tremaining: 21.7s\n",
      "170:\tlearn: 0.0012974\ttotal: 11.2s\tremaining: 21.6s\n",
      "171:\tlearn: 0.0012974\ttotal: 11.3s\tremaining: 21.5s\n",
      "172:\tlearn: 0.0012974\ttotal: 11.3s\tremaining: 21.4s\n",
      "173:\tlearn: 0.0012899\ttotal: 11.4s\tremaining: 21.3s\n",
      "174:\tlearn: 0.0012883\ttotal: 11.4s\tremaining: 21.3s\n",
      "175:\tlearn: 0.0012883\ttotal: 11.5s\tremaining: 21.2s\n",
      "176:\tlearn: 0.0012826\ttotal: 11.6s\tremaining: 21.1s\n",
      "177:\tlearn: 0.0012824\ttotal: 11.6s\tremaining: 21.1s\n",
      "178:\tlearn: 0.0012753\ttotal: 11.7s\tremaining: 21s\n",
      "179:\tlearn: 0.0012753\ttotal: 11.8s\tremaining: 20.9s\n",
      "180:\tlearn: 0.0012750\ttotal: 11.8s\tremaining: 20.8s\n",
      "181:\tlearn: 0.0012750\ttotal: 11.9s\tremaining: 20.8s\n",
      "182:\tlearn: 0.0012750\ttotal: 11.9s\tremaining: 20.7s\n",
      "183:\tlearn: 0.0012750\ttotal: 12s\tremaining: 20.6s\n",
      "184:\tlearn: 0.0012750\ttotal: 12s\tremaining: 20.5s\n",
      "185:\tlearn: 0.0012750\ttotal: 12.1s\tremaining: 20.4s\n",
      "186:\tlearn: 0.0012750\ttotal: 12.2s\tremaining: 20.4s\n",
      "187:\tlearn: 0.0012750\ttotal: 12.2s\tremaining: 20.3s\n",
      "188:\tlearn: 0.0012750\ttotal: 12.3s\tremaining: 20.2s\n",
      "189:\tlearn: 0.0012750\ttotal: 12.3s\tremaining: 20.1s\n",
      "190:\tlearn: 0.0012666\ttotal: 12.4s\tremaining: 20s\n",
      "191:\tlearn: 0.0012589\ttotal: 12.4s\tremaining: 20s\n",
      "192:\tlearn: 0.0012587\ttotal: 12.5s\tremaining: 19.9s\n",
      "193:\tlearn: 0.0012587\ttotal: 12.6s\tremaining: 19.8s\n",
      "194:\tlearn: 0.0012527\ttotal: 12.6s\tremaining: 19.7s\n",
      "195:\tlearn: 0.0012462\ttotal: 12.7s\tremaining: 19.7s\n",
      "196:\tlearn: 0.0012461\ttotal: 12.7s\tremaining: 19.6s\n",
      "197:\tlearn: 0.0012432\ttotal: 12.8s\tremaining: 19.5s\n",
      "198:\tlearn: 0.0012372\ttotal: 12.9s\tremaining: 19.5s\n",
      "199:\tlearn: 0.0012371\ttotal: 12.9s\tremaining: 19.4s\n",
      "200:\tlearn: 0.0012305\ttotal: 13s\tremaining: 19.3s\n",
      "201:\tlearn: 0.0012305\ttotal: 13s\tremaining: 19.2s\n",
      "202:\tlearn: 0.0012240\ttotal: 13.1s\tremaining: 19.2s\n",
      "203:\tlearn: 0.0012239\ttotal: 13.2s\tremaining: 19.1s\n",
      "204:\tlearn: 0.0012172\ttotal: 13.2s\tremaining: 19s\n",
      "205:\tlearn: 0.0012101\ttotal: 13.3s\tremaining: 18.9s\n",
      "206:\tlearn: 0.0012060\ttotal: 13.3s\tremaining: 18.9s\n",
      "207:\tlearn: 0.0012060\ttotal: 13.4s\tremaining: 18.8s\n",
      "208:\tlearn: 0.0012060\ttotal: 13.4s\tremaining: 18.7s\n",
      "209:\tlearn: 0.0012060\ttotal: 13.5s\tremaining: 18.6s\n",
      "210:\tlearn: 0.0012060\ttotal: 13.6s\tremaining: 18.6s\n",
      "211:\tlearn: 0.0012060\ttotal: 13.6s\tremaining: 18.5s\n",
      "212:\tlearn: 0.0012060\ttotal: 13.7s\tremaining: 18.4s\n",
      "213:\tlearn: 0.0012060\ttotal: 13.7s\tremaining: 18.4s\n",
      "214:\tlearn: 0.0012060\ttotal: 13.8s\tremaining: 18.3s\n",
      "215:\tlearn: 0.0012060\ttotal: 13.9s\tremaining: 18.2s\n",
      "216:\tlearn: 0.0012060\ttotal: 13.9s\tremaining: 18.2s\n",
      "217:\tlearn: 0.0012060\ttotal: 14s\tremaining: 18.1s\n",
      "218:\tlearn: 0.0012004\ttotal: 14s\tremaining: 18s\n",
      "219:\tlearn: 0.0011940\ttotal: 14.1s\tremaining: 17.9s\n",
      "220:\tlearn: 0.0011861\ttotal: 14.2s\tremaining: 17.9s\n",
      "221:\tlearn: 0.0011846\ttotal: 14.2s\tremaining: 17.8s\n",
      "222:\tlearn: 0.0011771\ttotal: 14.3s\tremaining: 17.7s\n",
      "223:\tlearn: 0.0011715\ttotal: 14.3s\tremaining: 17.7s\n",
      "224:\tlearn: 0.0011657\ttotal: 14.4s\tremaining: 17.6s\n",
      "225:\tlearn: 0.0011656\ttotal: 14.5s\tremaining: 17.6s\n",
      "226:\tlearn: 0.0011623\ttotal: 14.5s\tremaining: 17.5s\n",
      "227:\tlearn: 0.0011623\ttotal: 14.6s\tremaining: 17.4s\n",
      "228:\tlearn: 0.0011623\ttotal: 14.7s\tremaining: 17.3s\n",
      "229:\tlearn: 0.0011623\ttotal: 14.7s\tremaining: 17.3s\n",
      "230:\tlearn: 0.0011619\ttotal: 14.8s\tremaining: 17.2s\n",
      "231:\tlearn: 0.0011571\ttotal: 14.8s\tremaining: 17.1s\n",
      "232:\tlearn: 0.0011571\ttotal: 14.9s\tremaining: 17.1s\n",
      "233:\tlearn: 0.0011571\ttotal: 15s\tremaining: 17s\n",
      "234:\tlearn: 0.0011563\ttotal: 15s\tremaining: 17s\n",
      "235:\tlearn: 0.0011560\ttotal: 15.2s\tremaining: 17s\n",
      "236:\tlearn: 0.0011560\ttotal: 15.3s\tremaining: 17s\n",
      "237:\tlearn: 0.0011560\ttotal: 15.4s\tremaining: 17s\n",
      "238:\tlearn: 0.0011560\ttotal: 15.5s\tremaining: 16.9s\n",
      "239:\tlearn: 0.0011560\ttotal: 15.5s\tremaining: 16.8s\n",
      "240:\tlearn: 0.0011560\ttotal: 15.6s\tremaining: 16.8s\n",
      "241:\tlearn: 0.0011560\ttotal: 15.7s\tremaining: 16.7s\n",
      "242:\tlearn: 0.0011560\ttotal: 15.7s\tremaining: 16.6s\n",
      "243:\tlearn: 0.0011560\ttotal: 15.8s\tremaining: 16.6s\n",
      "244:\tlearn: 0.0011560\ttotal: 15.9s\tremaining: 16.6s\n",
      "245:\tlearn: 0.0011560\ttotal: 16s\tremaining: 16.5s\n",
      "246:\tlearn: 0.0011560\ttotal: 16s\tremaining: 16.4s\n",
      "247:\tlearn: 0.0011560\ttotal: 16.1s\tremaining: 16.4s\n",
      "248:\tlearn: 0.0011560\ttotal: 16.2s\tremaining: 16.3s\n",
      "249:\tlearn: 0.0011560\ttotal: 16.3s\tremaining: 16.3s\n",
      "250:\tlearn: 0.0011560\ttotal: 16.3s\tremaining: 16.2s\n",
      "251:\tlearn: 0.0011560\ttotal: 16.4s\tremaining: 16.1s\n",
      "252:\tlearn: 0.0011560\ttotal: 16.5s\tremaining: 16.1s\n",
      "253:\tlearn: 0.0011560\ttotal: 16.5s\tremaining: 16s\n",
      "254:\tlearn: 0.0011560\ttotal: 16.6s\tremaining: 16s\n",
      "255:\tlearn: 0.0011560\ttotal: 16.7s\tremaining: 15.9s\n",
      "256:\tlearn: 0.0011560\ttotal: 16.7s\tremaining: 15.8s\n",
      "257:\tlearn: 0.0011560\ttotal: 16.8s\tremaining: 15.8s\n",
      "258:\tlearn: 0.0011560\ttotal: 16.9s\tremaining: 15.7s\n",
      "259:\tlearn: 0.0011560\ttotal: 16.9s\tremaining: 15.6s\n",
      "260:\tlearn: 0.0011560\ttotal: 17s\tremaining: 15.6s\n",
      "261:\tlearn: 0.0011560\ttotal: 17.1s\tremaining: 15.5s\n",
      "262:\tlearn: 0.0011560\ttotal: 17.2s\tremaining: 15.5s\n",
      "263:\tlearn: 0.0011560\ttotal: 17.3s\tremaining: 15.4s\n",
      "264:\tlearn: 0.0011560\ttotal: 17.3s\tremaining: 15.4s\n",
      "265:\tlearn: 0.0011531\ttotal: 17.4s\tremaining: 15.3s\n",
      "266:\tlearn: 0.0011531\ttotal: 17.5s\tremaining: 15.2s\n",
      "267:\tlearn: 0.0011475\ttotal: 17.5s\tremaining: 15.2s\n",
      "268:\tlearn: 0.0011475\ttotal: 17.6s\tremaining: 15.1s\n",
      "269:\tlearn: 0.0011475\ttotal: 17.7s\tremaining: 15s\n",
      "270:\tlearn: 0.0011451\ttotal: 17.7s\tremaining: 15s\n",
      "271:\tlearn: 0.0011451\ttotal: 17.8s\tremaining: 14.9s\n",
      "272:\tlearn: 0.0011388\ttotal: 17.8s\tremaining: 14.8s\n",
      "273:\tlearn: 0.0011364\ttotal: 17.9s\tremaining: 14.8s\n",
      "274:\tlearn: 0.0011293\ttotal: 18s\tremaining: 14.7s\n",
      "275:\tlearn: 0.0011233\ttotal: 18s\tremaining: 14.6s\n",
      "276:\tlearn: 0.0011207\ttotal: 18.1s\tremaining: 14.5s\n",
      "277:\tlearn: 0.0011173\ttotal: 18.1s\tremaining: 14.5s\n",
      "278:\tlearn: 0.0011108\ttotal: 18.2s\tremaining: 14.4s\n",
      "279:\tlearn: 0.0011065\ttotal: 18.2s\tremaining: 14.3s\n",
      "280:\tlearn: 0.0011041\ttotal: 18.3s\tremaining: 14.3s\n",
      "281:\tlearn: 0.0011041\ttotal: 18.4s\tremaining: 14.2s\n",
      "282:\tlearn: 0.0011041\ttotal: 18.4s\tremaining: 14.1s\n",
      "283:\tlearn: 0.0011041\ttotal: 18.5s\tremaining: 14.1s\n",
      "284:\tlearn: 0.0011041\ttotal: 18.6s\tremaining: 14s\n",
      "285:\tlearn: 0.0011041\ttotal: 18.6s\tremaining: 13.9s\n",
      "286:\tlearn: 0.0011041\ttotal: 18.7s\tremaining: 13.9s\n",
      "287:\tlearn: 0.0011041\ttotal: 18.8s\tremaining: 13.8s\n",
      "288:\tlearn: 0.0011041\ttotal: 18.8s\tremaining: 13.7s\n",
      "289:\tlearn: 0.0011041\ttotal: 18.9s\tremaining: 13.7s\n",
      "290:\tlearn: 0.0011041\ttotal: 18.9s\tremaining: 13.6s\n",
      "291:\tlearn: 0.0011041\ttotal: 19s\tremaining: 13.5s\n",
      "292:\tlearn: 0.0011041\ttotal: 19.1s\tremaining: 13.5s\n",
      "293:\tlearn: 0.0011041\ttotal: 19.1s\tremaining: 13.4s\n",
      "294:\tlearn: 0.0011041\ttotal: 19.2s\tremaining: 13.3s\n",
      "295:\tlearn: 0.0011041\ttotal: 19.2s\tremaining: 13.3s\n",
      "296:\tlearn: 0.0011041\ttotal: 19.3s\tremaining: 13.2s\n",
      "297:\tlearn: 0.0011041\ttotal: 19.4s\tremaining: 13.1s\n",
      "298:\tlearn: 0.0011041\ttotal: 19.4s\tremaining: 13.1s\n",
      "299:\tlearn: 0.0011039\ttotal: 19.5s\tremaining: 13s\n",
      "300:\tlearn: 0.0011037\ttotal: 19.6s\tremaining: 13s\n",
      "301:\tlearn: 0.0011038\ttotal: 19.7s\tremaining: 12.9s\n",
      "302:\tlearn: 0.0010981\ttotal: 19.8s\tremaining: 12.8s\n",
      "303:\tlearn: 0.0010938\ttotal: 19.8s\tremaining: 12.8s\n",
      "304:\tlearn: 0.0010933\ttotal: 19.9s\tremaining: 12.7s\n",
      "305:\tlearn: 0.0010933\ttotal: 20s\tremaining: 12.7s\n",
      "306:\tlearn: 0.0010933\ttotal: 20.1s\tremaining: 12.6s\n",
      "307:\tlearn: 0.0010933\ttotal: 20.2s\tremaining: 12.6s\n",
      "308:\tlearn: 0.0010933\ttotal: 20.3s\tremaining: 12.5s\n",
      "309:\tlearn: 0.0010933\ttotal: 20.3s\tremaining: 12.5s\n",
      "310:\tlearn: 0.0010933\ttotal: 20.4s\tremaining: 12.4s\n",
      "311:\tlearn: 0.0010933\ttotal: 20.5s\tremaining: 12.4s\n",
      "312:\tlearn: 0.0010933\ttotal: 20.6s\tremaining: 12.3s\n",
      "313:\tlearn: 0.0010933\ttotal: 20.7s\tremaining: 12.2s\n",
      "314:\tlearn: 0.0010933\ttotal: 20.7s\tremaining: 12.2s\n",
      "315:\tlearn: 0.0010933\ttotal: 20.8s\tremaining: 12.1s\n",
      "316:\tlearn: 0.0010933\ttotal: 20.9s\tremaining: 12.1s\n",
      "317:\tlearn: 0.0010933\ttotal: 21s\tremaining: 12s\n",
      "318:\tlearn: 0.0010933\ttotal: 21s\tremaining: 11.9s\n",
      "319:\tlearn: 0.0010933\ttotal: 21.1s\tremaining: 11.9s\n",
      "320:\tlearn: 0.0010933\ttotal: 21.2s\tremaining: 11.8s\n",
      "321:\tlearn: 0.0010933\ttotal: 21.3s\tremaining: 11.7s\n",
      "322:\tlearn: 0.0010933\ttotal: 21.3s\tremaining: 11.7s\n",
      "323:\tlearn: 0.0010933\ttotal: 21.4s\tremaining: 11.6s\n",
      "324:\tlearn: 0.0010933\ttotal: 21.5s\tremaining: 11.6s\n",
      "325:\tlearn: 0.0010933\ttotal: 21.6s\tremaining: 11.5s\n",
      "326:\tlearn: 0.0010932\ttotal: 21.6s\tremaining: 11.5s\n",
      "327:\tlearn: 0.0010930\ttotal: 21.7s\tremaining: 11.4s\n",
      "328:\tlearn: 0.0010925\ttotal: 21.8s\tremaining: 11.3s\n",
      "329:\tlearn: 0.0010923\ttotal: 22s\tremaining: 11.3s\n",
      "330:\tlearn: 0.0010923\ttotal: 22.1s\tremaining: 11.3s\n",
      "331:\tlearn: 0.0010923\ttotal: 22.2s\tremaining: 11.2s\n",
      "332:\tlearn: 0.0010923\ttotal: 22.3s\tremaining: 11.2s\n",
      "333:\tlearn: 0.0010923\ttotal: 22.4s\tremaining: 11.1s\n",
      "334:\tlearn: 0.0010923\ttotal: 22.4s\tremaining: 11s\n",
      "335:\tlearn: 0.0010923\ttotal: 22.5s\tremaining: 11s\n",
      "336:\tlearn: 0.0010923\ttotal: 22.5s\tremaining: 10.9s\n",
      "337:\tlearn: 0.0010923\ttotal: 22.6s\tremaining: 10.8s\n",
      "338:\tlearn: 0.0010923\ttotal: 22.7s\tremaining: 10.8s\n",
      "339:\tlearn: 0.0010922\ttotal: 22.7s\tremaining: 10.7s\n",
      "340:\tlearn: 0.0010922\ttotal: 22.8s\tremaining: 10.6s\n",
      "341:\tlearn: 0.0010922\ttotal: 22.8s\tremaining: 10.5s\n",
      "342:\tlearn: 0.0010922\ttotal: 22.9s\tremaining: 10.5s\n",
      "343:\tlearn: 0.0010922\ttotal: 23s\tremaining: 10.4s\n",
      "344:\tlearn: 0.0010922\ttotal: 23s\tremaining: 10.3s\n",
      "345:\tlearn: 0.0010922\ttotal: 23.1s\tremaining: 10.3s\n",
      "346:\tlearn: 0.0010922\ttotal: 23.1s\tremaining: 10.2s\n",
      "347:\tlearn: 0.0010921\ttotal: 23.2s\tremaining: 10.1s\n",
      "348:\tlearn: 0.0010917\ttotal: 23.3s\tremaining: 10.1s\n",
      "349:\tlearn: 0.0010917\ttotal: 23.3s\tremaining: 10s\n",
      "350:\tlearn: 0.0010917\ttotal: 23.4s\tremaining: 9.93s\n",
      "351:\tlearn: 0.0010917\ttotal: 23.4s\tremaining: 9.86s\n",
      "352:\tlearn: 0.0010917\ttotal: 23.5s\tremaining: 9.79s\n",
      "353:\tlearn: 0.0010917\ttotal: 23.6s\tremaining: 9.72s\n",
      "354:\tlearn: 0.0010917\ttotal: 23.6s\tremaining: 9.65s\n",
      "355:\tlearn: 0.0010917\ttotal: 23.7s\tremaining: 9.58s\n",
      "356:\tlearn: 0.0010917\ttotal: 23.8s\tremaining: 9.52s\n",
      "357:\tlearn: 0.0010917\ttotal: 23.8s\tremaining: 9.45s\n",
      "358:\tlearn: 0.0010917\ttotal: 23.9s\tremaining: 9.39s\n",
      "359:\tlearn: 0.0010917\ttotal: 24s\tremaining: 9.32s\n",
      "360:\tlearn: 0.0010916\ttotal: 24s\tremaining: 9.26s\n",
      "361:\tlearn: 0.0010915\ttotal: 24.1s\tremaining: 9.19s\n",
      "362:\tlearn: 0.0010915\ttotal: 24.2s\tremaining: 9.12s\n",
      "363:\tlearn: 0.0010914\ttotal: 24.2s\tremaining: 9.05s\n",
      "364:\tlearn: 0.0010913\ttotal: 24.3s\tremaining: 8.98s\n",
      "365:\tlearn: 0.0010913\ttotal: 24.3s\tremaining: 8.91s\n",
      "366:\tlearn: 0.0010912\ttotal: 24.4s\tremaining: 8.84s\n",
      "367:\tlearn: 0.0010870\ttotal: 24.5s\tremaining: 8.77s\n",
      "368:\tlearn: 0.0010869\ttotal: 24.5s\tremaining: 8.71s\n",
      "369:\tlearn: 0.0010869\ttotal: 24.6s\tremaining: 8.64s\n",
      "370:\tlearn: 0.0010869\ttotal: 24.6s\tremaining: 8.57s\n",
      "371:\tlearn: 0.0010869\ttotal: 24.7s\tremaining: 8.5s\n",
      "372:\tlearn: 0.0010869\ttotal: 24.8s\tremaining: 8.43s\n",
      "373:\tlearn: 0.0010869\ttotal: 24.8s\tremaining: 8.36s\n",
      "374:\tlearn: 0.0010869\ttotal: 24.9s\tremaining: 8.29s\n",
      "375:\tlearn: 0.0010869\ttotal: 24.9s\tremaining: 8.22s\n",
      "376:\tlearn: 0.0010869\ttotal: 25s\tremaining: 8.15s\n",
      "377:\tlearn: 0.0010869\ttotal: 25.1s\tremaining: 8.09s\n",
      "378:\tlearn: 0.0010869\ttotal: 25.1s\tremaining: 8.02s\n",
      "379:\tlearn: 0.0010869\ttotal: 25.2s\tremaining: 7.95s\n",
      "380:\tlearn: 0.0010869\ttotal: 25.2s\tremaining: 7.88s\n",
      "381:\tlearn: 0.0010869\ttotal: 25.3s\tremaining: 7.83s\n",
      "382:\tlearn: 0.0010869\ttotal: 25.4s\tremaining: 7.76s\n",
      "383:\tlearn: 0.0010869\ttotal: 25.5s\tremaining: 7.69s\n",
      "384:\tlearn: 0.0010869\ttotal: 25.5s\tremaining: 7.63s\n",
      "385:\tlearn: 0.0010869\ttotal: 25.6s\tremaining: 7.56s\n",
      "386:\tlearn: 0.0010869\ttotal: 25.7s\tremaining: 7.49s\n",
      "387:\tlearn: 0.0010869\ttotal: 25.7s\tremaining: 7.42s\n",
      "388:\tlearn: 0.0010869\ttotal: 25.8s\tremaining: 7.36s\n",
      "389:\tlearn: 0.0010869\ttotal: 25.8s\tremaining: 7.29s\n",
      "390:\tlearn: 0.0010869\ttotal: 25.9s\tremaining: 7.22s\n",
      "391:\tlearn: 0.0010869\ttotal: 26s\tremaining: 7.15s\n",
      "392:\tlearn: 0.0010869\ttotal: 26s\tremaining: 7.08s\n",
      "393:\tlearn: 0.0010869\ttotal: 26.1s\tremaining: 7.01s\n",
      "394:\tlearn: 0.0010869\ttotal: 26.1s\tremaining: 6.95s\n",
      "395:\tlearn: 0.0010869\ttotal: 26.2s\tremaining: 6.88s\n",
      "396:\tlearn: 0.0010869\ttotal: 26.3s\tremaining: 6.81s\n",
      "397:\tlearn: 0.0010869\ttotal: 26.3s\tremaining: 6.74s\n",
      "398:\tlearn: 0.0010869\ttotal: 26.4s\tremaining: 6.68s\n",
      "399:\tlearn: 0.0010869\ttotal: 26.4s\tremaining: 6.61s\n",
      "400:\tlearn: 0.0010869\ttotal: 26.5s\tremaining: 6.54s\n",
      "401:\tlearn: 0.0010869\ttotal: 26.6s\tremaining: 6.48s\n",
      "402:\tlearn: 0.0010869\ttotal: 26.6s\tremaining: 6.41s\n",
      "403:\tlearn: 0.0010869\ttotal: 26.7s\tremaining: 6.34s\n",
      "404:\tlearn: 0.0010869\ttotal: 26.7s\tremaining: 6.27s\n",
      "405:\tlearn: 0.0010869\ttotal: 26.8s\tremaining: 6.21s\n",
      "406:\tlearn: 0.0010869\ttotal: 26.9s\tremaining: 6.14s\n",
      "407:\tlearn: 0.0010869\ttotal: 26.9s\tremaining: 6.07s\n",
      "408:\tlearn: 0.0010869\ttotal: 27s\tremaining: 6s\n",
      "409:\tlearn: 0.0010869\ttotal: 27s\tremaining: 5.94s\n",
      "410:\tlearn: 0.0010869\ttotal: 27.1s\tremaining: 5.87s\n",
      "411:\tlearn: 0.0010869\ttotal: 27.2s\tremaining: 5.8s\n",
      "412:\tlearn: 0.0010869\ttotal: 27.2s\tremaining: 5.74s\n",
      "413:\tlearn: 0.0010869\ttotal: 27.3s\tremaining: 5.67s\n",
      "414:\tlearn: 0.0010869\ttotal: 27.4s\tremaining: 5.6s\n",
      "415:\tlearn: 0.0010869\ttotal: 27.4s\tremaining: 5.54s\n",
      "416:\tlearn: 0.0010869\ttotal: 27.5s\tremaining: 5.47s\n",
      "417:\tlearn: 0.0010869\ttotal: 27.5s\tremaining: 5.4s\n",
      "418:\tlearn: 0.0010869\ttotal: 27.6s\tremaining: 5.33s\n",
      "419:\tlearn: 0.0010869\ttotal: 27.7s\tremaining: 5.27s\n",
      "420:\tlearn: 0.0010869\ttotal: 27.7s\tremaining: 5.2s\n",
      "421:\tlearn: 0.0010869\ttotal: 27.8s\tremaining: 5.13s\n",
      "422:\tlearn: 0.0010869\ttotal: 27.8s\tremaining: 5.07s\n",
      "423:\tlearn: 0.0010869\ttotal: 27.9s\tremaining: 5s\n",
      "424:\tlearn: 0.0010869\ttotal: 28s\tremaining: 4.93s\n",
      "425:\tlearn: 0.0010869\ttotal: 28s\tremaining: 4.87s\n",
      "426:\tlearn: 0.0010869\ttotal: 28.1s\tremaining: 4.8s\n",
      "427:\tlearn: 0.0010869\ttotal: 28.1s\tremaining: 4.73s\n",
      "428:\tlearn: 0.0010869\ttotal: 28.2s\tremaining: 4.67s\n",
      "429:\tlearn: 0.0010869\ttotal: 28.3s\tremaining: 4.6s\n",
      "430:\tlearn: 0.0010869\ttotal: 28.3s\tremaining: 4.54s\n",
      "431:\tlearn: 0.0010869\ttotal: 28.4s\tremaining: 4.47s\n",
      "432:\tlearn: 0.0010869\ttotal: 28.5s\tremaining: 4.4s\n",
      "433:\tlearn: 0.0010869\ttotal: 28.5s\tremaining: 4.34s\n",
      "434:\tlearn: 0.0010869\ttotal: 28.6s\tremaining: 4.27s\n",
      "435:\tlearn: 0.0010869\ttotal: 28.6s\tremaining: 4.2s\n",
      "436:\tlearn: 0.0010869\ttotal: 28.7s\tremaining: 4.14s\n",
      "437:\tlearn: 0.0010869\ttotal: 28.8s\tremaining: 4.07s\n",
      "438:\tlearn: 0.0010869\ttotal: 28.8s\tremaining: 4s\n",
      "439:\tlearn: 0.0010869\ttotal: 28.9s\tremaining: 3.94s\n",
      "440:\tlearn: 0.0010869\ttotal: 28.9s\tremaining: 3.87s\n",
      "441:\tlearn: 0.0010869\ttotal: 29s\tremaining: 3.81s\n",
      "442:\tlearn: 0.0010869\ttotal: 29.1s\tremaining: 3.74s\n",
      "443:\tlearn: 0.0010869\ttotal: 29.1s\tremaining: 3.67s\n",
      "444:\tlearn: 0.0010869\ttotal: 29.2s\tremaining: 3.61s\n",
      "445:\tlearn: 0.0010869\ttotal: 29.3s\tremaining: 3.54s\n",
      "446:\tlearn: 0.0010869\ttotal: 29.3s\tremaining: 3.48s\n",
      "447:\tlearn: 0.0010869\ttotal: 29.4s\tremaining: 3.41s\n",
      "448:\tlearn: 0.0010869\ttotal: 29.4s\tremaining: 3.34s\n",
      "449:\tlearn: 0.0010869\ttotal: 29.5s\tremaining: 3.28s\n",
      "450:\tlearn: 0.0010869\ttotal: 29.6s\tremaining: 3.21s\n",
      "451:\tlearn: 0.0010869\ttotal: 29.6s\tremaining: 3.15s\n",
      "452:\tlearn: 0.0010869\ttotal: 29.7s\tremaining: 3.08s\n",
      "453:\tlearn: 0.0010869\ttotal: 29.7s\tremaining: 3.01s\n",
      "454:\tlearn: 0.0010869\ttotal: 29.8s\tremaining: 2.95s\n",
      "455:\tlearn: 0.0010869\ttotal: 29.9s\tremaining: 2.88s\n",
      "456:\tlearn: 0.0010869\ttotal: 29.9s\tremaining: 2.82s\n",
      "457:\tlearn: 0.0010869\ttotal: 30s\tremaining: 2.75s\n",
      "458:\tlearn: 0.0010869\ttotal: 30s\tremaining: 2.68s\n",
      "459:\tlearn: 0.0010869\ttotal: 30.1s\tremaining: 2.62s\n",
      "460:\tlearn: 0.0010869\ttotal: 30.2s\tremaining: 2.55s\n",
      "461:\tlearn: 0.0010869\ttotal: 30.2s\tremaining: 2.49s\n",
      "462:\tlearn: 0.0010869\ttotal: 30.3s\tremaining: 2.42s\n",
      "463:\tlearn: 0.0010869\ttotal: 30.4s\tremaining: 2.35s\n",
      "464:\tlearn: 0.0010869\ttotal: 30.4s\tremaining: 2.29s\n",
      "465:\tlearn: 0.0010869\ttotal: 30.5s\tremaining: 2.22s\n",
      "466:\tlearn: 0.0010869\ttotal: 30.5s\tremaining: 2.16s\n",
      "467:\tlearn: 0.0010869\ttotal: 30.6s\tremaining: 2.09s\n",
      "468:\tlearn: 0.0010869\ttotal: 30.7s\tremaining: 2.03s\n",
      "469:\tlearn: 0.0010869\ttotal: 30.7s\tremaining: 1.96s\n",
      "470:\tlearn: 0.0010869\ttotal: 30.8s\tremaining: 1.9s\n",
      "471:\tlearn: 0.0010869\ttotal: 30.9s\tremaining: 1.83s\n",
      "472:\tlearn: 0.0010869\ttotal: 30.9s\tremaining: 1.76s\n",
      "473:\tlearn: 0.0010869\ttotal: 31s\tremaining: 1.7s\n",
      "474:\tlearn: 0.0010869\ttotal: 31s\tremaining: 1.63s\n",
      "475:\tlearn: 0.0010869\ttotal: 31.1s\tremaining: 1.57s\n",
      "476:\tlearn: 0.0010869\ttotal: 31.2s\tremaining: 1.5s\n",
      "477:\tlearn: 0.0010869\ttotal: 31.2s\tremaining: 1.44s\n",
      "478:\tlearn: 0.0010869\ttotal: 31.3s\tremaining: 1.37s\n",
      "479:\tlearn: 0.0010869\ttotal: 31.3s\tremaining: 1.31s\n",
      "480:\tlearn: 0.0010869\ttotal: 31.4s\tremaining: 1.24s\n",
      "481:\tlearn: 0.0010869\ttotal: 31.5s\tremaining: 1.18s\n",
      "482:\tlearn: 0.0010869\ttotal: 31.5s\tremaining: 1.11s\n",
      "483:\tlearn: 0.0010869\ttotal: 31.6s\tremaining: 1.04s\n",
      "484:\tlearn: 0.0010869\ttotal: 31.7s\tremaining: 979ms\n",
      "485:\tlearn: 0.0010869\ttotal: 31.7s\tremaining: 914ms\n",
      "486:\tlearn: 0.0010869\ttotal: 31.8s\tremaining: 848ms\n",
      "487:\tlearn: 0.0010869\ttotal: 31.9s\tremaining: 783ms\n",
      "488:\tlearn: 0.0010869\ttotal: 31.9s\tremaining: 718ms\n",
      "489:\tlearn: 0.0010869\ttotal: 32s\tremaining: 653ms\n",
      "490:\tlearn: 0.0010869\ttotal: 32s\tremaining: 587ms\n",
      "491:\tlearn: 0.0010869\ttotal: 32.1s\tremaining: 522ms\n",
      "492:\tlearn: 0.0010869\ttotal: 32.1s\tremaining: 456ms\n",
      "493:\tlearn: 0.0010869\ttotal: 32.2s\tremaining: 391ms\n",
      "494:\tlearn: 0.0010869\ttotal: 32.3s\tremaining: 326ms\n",
      "495:\tlearn: 0.0010869\ttotal: 32.3s\tremaining: 261ms\n",
      "496:\tlearn: 0.0010869\ttotal: 32.4s\tremaining: 196ms\n",
      "497:\tlearn: 0.0010869\ttotal: 32.4s\tremaining: 130ms\n",
      "498:\tlearn: 0.0010869\ttotal: 32.5s\tremaining: 65.2ms\n",
      "499:\tlearn: 0.0010869\ttotal: 32.6s\tremaining: 0us\n",
      "0.8673076923076923\n",
      "Rapport d'entrainement pour le random tree forest classifier\n",
      "                       precision    recall  f1-score   support\n",
      "\n",
      "Heart Failure No Risk       0.78      0.87      0.82        77\n",
      "   Heart Failure Risk       0.90      0.82      0.86       107\n",
      "\n",
      "             accuracy                           0.84       184\n",
      "            macro avg       0.84      0.85      0.84       184\n",
      "         weighted avg       0.85      0.84      0.84       184\n",
      "\n"
     ]
    },
    {
     "data": {
      "image/png": "[encoded data removed]",
      "text/plain": [
       "<Figure size 480x480 with 1 Axes>"
      ]
     },
     "metadata": {},
     "output_type": "display_data"
    }
   ],
   "source": [
    "from catboost import CatBoostClassifier\n",
    "model_catboost = CatBoostClassifier(iterations=500,\n",
    "                          learning_rate=0.9,\n",
    "                          depth=12)\n",
    "# Fit model\n",
    "model_catboost.fit(X_train_norm, y_train)\n",
    "# Get predictions\n",
    "y_pred = model_catboost.predict(X_test_norm)\n",
    "#preds_proba = model.predict_proba(X_test_norm)\n",
    "#preds_raw = model.predict(X_test_norm, prediction_type='RawFormulaVal')\n",
    "print(metrics.f1_score(y_test, y_pred, average=\"macro\")) # Test métrique F1 score\n",
    "report = classification_report(y_test,y_test_pred,target_names = label_name)\n",
    "print(\"Rapport d'entrainement pour le random tree forest classifier\")\n",
    "print(report)\n",
    "plot_confusion_matrix(confusion_matrix(y_test, y_pred))"
   ]
  },
  {
   "cell_type": "markdown",
   "metadata": {},
   "source": [
    "#### Gradient Boost"
   ]
  },
  {
   "cell_type": "code",
   "execution_count": 163,
   "metadata": {},
   "outputs": [
    {
     "name": "stdout",
     "output_type": "stream",
     "text": [
      "GradientBoostingClassifier(learning_rate=0.7, n_estimators=70, random_state=42)\n",
      "Rapport d'entrainement pour le random tree forest classifier\n",
      "                       precision    recall  f1-score   support\n",
      "\n",
      "Heart Failure No Risk       0.78      0.87      0.82        77\n",
      "   Heart Failure Risk       0.90      0.82      0.86       107\n",
      "\n",
      "             accuracy                           0.84       184\n",
      "            macro avg       0.84      0.85      0.84       184\n",
      "         weighted avg       0.85      0.84      0.84       184\n",
      "\n",
      "0.8403112374682029\n"
     ]
    },
    {
     "data": {
      "image/png": "[encoded data removed]",
      "text/plain": [
       "<Figure size 480x480 with 1 Axes>"
      ]
     },
     "metadata": {},
     "output_type": "display_data"
    }
   ],
   "source": [
    "param_grid = {'n_estimators': [50, 60, 70, 80], 'learning_rate': [0.6, 0.7, 0.8,1]} \n",
    "model_gradientboost = GradientBoostingClassifier(random_state=42)\n",
    "search = GridSearchCV(model_gradientboost, param_grid, scoring='accuracy', cv=5) \n",
    "search.fit(X_train_norm, y_train) # On fit\n",
    "\n",
    "model_gradientboost = search.best_estimator_ # On récupère ici le meilleur estimateur obtenue après test\n",
    "print(search.best_estimator_)\n",
    "y_test_pred = model_gradientboost.predict(X_test_norm)\n",
    "\n",
    "report = classification_report(y_test,y_test_pred,target_names = label_name)\n",
    "print(\"Rapport d'entrainement pour le random tree forest classifier\")\n",
    "print(report)\n",
    "print(metrics.f1_score(y_test, y_test_pred, average=\"macro\")) # Test métrique F1 score\n",
    "plot_confusion_matrix(confusion_matrix(y_test, y_test_pred))"
   ]
  },
  {
   "cell_type": "markdown",
   "metadata": {},
   "source": [
    "### Tests des algorithmes des algorithmes de classifications à base d'arbres"
   ]
  },
  {
   "cell_type": "markdown",
   "metadata": {},
   "source": [
    "#### Decision Tree Classifier"
   ]
  },
  {
   "cell_type": "code",
   "execution_count": 177,
   "metadata": {},
   "outputs": [
    {
     "name": "stdout",
     "output_type": "stream",
     "text": [
      "DecisionTreeClassifier(max_depth=4, min_samples_leaf=10)\n",
      "accuracy:  0.8586956521739131\n",
      "0.8403112374682029\n",
      "Rapport d'entrainement pour le decision tree classifier\n",
      "                       precision    recall  f1-score   support\n",
      "\n",
      "Heart Failure No Risk       0.83      0.83      0.83        77\n",
      "   Heart Failure Risk       0.88      0.88      0.88       107\n",
      "\n",
      "             accuracy                           0.86       184\n",
      "            macro avg       0.85      0.85      0.85       184\n",
      "         weighted avg       0.86      0.86      0.86       184\n",
      "\n"
     ]
    },
    {
     "data": {
      "image/png": "[encoded data removed]",
      "text/plain": [
       "<Figure size 480x480 with 1 Axes>"
      ]
     },
     "metadata": {},
     "output_type": "display_data"
    }
   ],
   "source": [
    "# On met en place les paramètres\n",
    "param_grid = {'criterion': ['gini', 'entropy'], 'max_depth': [2,3, 4, 5, 6], 'min_samples_split': [2, 3, 5, 6, 10], 'min_samples_leaf': [5, 10, 15, 20]}\n",
    "\n",
    "# On execute l'arbre de décision\n",
    "model_decisiontree = DecisionTreeClassifier()\n",
    "search = GridSearchCV(model_decisiontree, param_grid, scoring='f1_macro', cv=10)\n",
    "# On fit\n",
    "search.fit(X_train_norm, y_train)\n",
    "\n",
    "model_decisiontree = search.best_estimator_ # On récupère ici le meilleur estimateur obtenue après test\n",
    "print(search.best_estimator_)\n",
    "y_pred = model_decisiontree.predict(X_test_norm) # On prédit y_test d'après X_test en utilisant l'arbre de décision\n",
    "\n",
    "# Utiliser la fonction score du model pour calculer la précision\n",
    "accuracy = model_decisiontree.score(X_test_norm, y_test)\n",
    "print(\"accuracy: \", accuracy)\n",
    "print(metrics.f1_score(y_test, y_test_pred, average=\"macro\")) # Test métrique F1 score\n",
    "# Génération d'un rapport de classification\n",
    "report = classification_report(y_test,y_pred,target_names = label_name)\n",
    "print(\"Rapport d'entrainement pour le decision tree classifier\")\n",
    "print(report)\n",
    "\n",
    "# Création d'une matrice de confusion\n",
    "plot_confusion_matrix(confusion_matrix(y_test, y_pred))"
   ]
  },
  {
   "cell_type": "markdown",
   "metadata": {},
   "source": [
    "#### Random Tree Forest"
   ]
  },
  {
   "cell_type": "code",
   "execution_count": 176,
   "metadata": {},
   "outputs": [
    {
     "name": "stdout",
     "output_type": "stream",
     "text": [
      "accuracy : 0.8586956521739131\n",
      "0.8403112374682029\n",
      "Rapport d'entrainement pour le random tree forest classifier\n",
      "                       precision    recall  f1-score   support\n",
      "\n",
      "Heart Failure No Risk       0.81      0.87      0.84        77\n",
      "   Heart Failure Risk       0.90      0.85      0.88       107\n",
      "\n",
      "             accuracy                           0.86       184\n",
      "            macro avg       0.85      0.86      0.86       184\n",
      "         weighted avg       0.86      0.86      0.86       184\n",
      "\n"
     ]
    },
    {
     "data": {
      "image/png": "[encoded data removed]",
      "text/plain": [
       "<Figure size 480x480 with 1 Axes>"
      ]
     },
     "metadata": {},
     "output_type": "display_data"
    }
   ],
   "source": [
    "# Créer un classifer avec 10 estimateurs\n",
    "modelrandomforest = RandomForestClassifier(n_estimators=10) #utilisation de 10 arbres nos données même divisées en 10 arbres restent suffisantes \n",
    "# Utiliser la propriété fit pour entrainer le classifier\n",
    "modelrandomforest.fit(X_train_norm, y_train)\n",
    "\n",
    "# Extraction d'un estimateur pour le visualiser\n",
    "estimator = modelrandomforest.estimators_[3] #arbre numero 3\n",
    "get_estimator_visualisation(estimator, kept_columns, label_name)\n",
    "\n",
    "# Passer les données non présentes lors de l'entrainement pour vérifier la qualité de cet entrainement avec la fonction predict\n",
    "y_pred = modelrandomforest.predict(X_test_norm)\n",
    "\n",
    "# Utiliser la fonction score du model pour calculer la précision\n",
    "accuracy = modelrandomforest.score(X_test_norm, y_test)\n",
    "print(\"accuracy :\", accuracy)\n",
    "print(metrics.f1_score(y_test, y_test_pred, average=\"macro\")) # Test métrique F1 score\n",
    "# Génération d'un rapport de classification\n",
    "report = classification_report(y_test,y_pred,target_names = label_name)\n",
    "print(\"Rapport d'entrainement pour le random tree forest classifier\")\n",
    "print(report)\n",
    "\n",
    "# Création d'une matrice de confusion\n",
    "plot_confusion_matrix(confusion_matrix(y_test, y_pred))"
   ]
  },
  {
   "cell_type": "markdown",
   "metadata": {},
   "source": [
    "Le meilleur modèe obtenu est celui avec le decision tree classifier. En effet pour des données de santé le recall (basé sur les resultats postifs) est le plus important "
   ]
  },
  {
   "cell_type": "markdown",
   "metadata": {},
   "source": [
    "## Test sur des données réelles"
   ]
  },
  {
   "cell_type": "markdown",
   "metadata": {},
   "source": [
    "### Récuperation de données"
   ]
  },
  {
   "cell_type": "code",
   "execution_count": 165,
   "metadata": {},
   "outputs": [],
   "source": [
    "#Importation des modules\n",
    "import serial\n",
    "import serial.tools.list_ports   # pour la communication avec le port série\n",
    "import numpy as np\n",
    "#initialisation des listes\n",
    "liste_distance = []"
   ]
  },
  {
   "cell_type": "code",
   "execution_count": 166,
   "metadata": {},
   "outputs": [],
   "source": [
    "# Fonction pour la récupération des données série venant de la carte Arduino\n",
    "def recup_port_Arduino() :\n",
    "    ports = list(serial.tools.list_ports.comports())\n",
    "    for p in ports:\n",
    "        print(p.description)\n",
    "        if 'USB-SERIAL' in p.description :\n",
    "            mData = serial.Serial(p.device,9600)\n",
    "    print(mData.is_open) # Affiche et vérifie que le port est ouvert\n",
    "    print(mData.name) # Affiche le nom du port \n",
    "    return mData"
   ]
  },
  {
   "cell_type": "code",
   "execution_count": 167,
   "metadata": {},
   "outputs": [
    {
     "name": "stdout",
     "output_type": "stream",
     "text": [
      "Lien série sur Bluetooth standard (COM3)\n",
      "Lien série sur Bluetooth standard (COM4)\n",
      "USB-SERIAL CH340 (COM5)\n",
      "True\n",
      "COM5\n"
     ]
    }
   ],
   "source": [
    "#On remet la variable Data à 0 pour éviter un bug \n",
    "Data = {}\n",
    "Data = recup_port_Arduino()"
   ]
  },
  {
   "cell_type": "markdown",
   "metadata": {},
   "source": [
    "On récupère la première ligne (qui ne nous intéresse pas) et on teste la fonction split"
   ]
  },
  {
   "cell_type": "code",
   "execution_count": 169,
   "metadata": {},
   "outputs": [
    {
     "name": "stdout",
     "output_type": "stream",
     "text": [
      "b'BPM: 87\\r\\n'\n",
      "[b'BPM:', b'87']\n"
     ]
    }
   ],
   "source": [
    "line1 = Data.readline() \n",
    "print (line1)\n",
    "donnee=line1.strip().split()\n",
    "print (donnee)"
   ]
  },
  {
   "cell_type": "code",
   "execution_count": 170,
   "metadata": {},
   "outputs": [
    {
     "name": "stdout",
     "output_type": "stream",
     "text": [
      "b'BPM: 101\\r\\n'\n",
      "[b'BPM:', b'101']\n",
      "BPM :  101.0  batts/min\n",
      "b'BPM: 110\\r\\n'\n",
      "[b'BPM:', b'110']\n",
      "BPM :  110.0  batts/min\n",
      "b'BPM: 109\\r\\n'\n",
      "[b'BPM:', b'109']\n",
      "BPM :  109.0  batts/min\n",
      "b'BPM: 100\\r\\n'\n",
      "[b'BPM:', b'100']\n",
      "BPM :  100.0  batts/min\n",
      "b'BPM: 107\\r\\n'\n",
      "[b'BPM:', b'107']\n",
      "BPM :  107.0  batts/min\n",
      "b'BPM: 106\\r\\n'\n",
      "[b'BPM:', b'106']\n",
      "BPM :  106.0  batts/min\n",
      "b'BPM: 116\\r\\n'\n",
      "[b'BPM:', b'116']\n",
      "BPM :  116.0  batts/min\n",
      "b'BPM: 131\\r\\n'\n",
      "[b'BPM:', b'131']\n",
      "BPM :  131.0  batts/min\n",
      "b'BPM: 129\\r\\n'\n",
      "[b'BPM:', b'129']\n",
      "BPM :  129.0  batts/min\n",
      "b'BPM: 114\\r\\n'\n",
      "[b'BPM:', b'114']\n",
      "BPM :  114.0  batts/min\n",
      "b'BPM: 108\\r\\n'\n",
      "[b'BPM:', b'108']\n",
      "BPM :  108.0  batts/min\n",
      "b'BPM: 108\\r\\n'\n",
      "[b'BPM:', b'108']\n",
      "BPM :  108.0  batts/min\n",
      "b'BPM: 114\\r\\n'\n",
      "[b'BPM:', b'114']\n",
      "BPM :  114.0  batts/min\n",
      "b'BPM: 113\\r\\n'\n",
      "[b'BPM:', b'113']\n",
      "BPM :  113.0  batts/min\n",
      "b'BPM: 114\\r\\n'\n",
      "[b'BPM:', b'114']\n",
      "BPM :  114.0  batts/min\n",
      "b'BPM: 111\\r\\n'\n",
      "[b'BPM:', b'111']\n",
      "BPM :  111.0  batts/min\n",
      "b'BPM: 103\\r\\n'\n",
      "[b'BPM:', b'103']\n",
      "BPM :  103.0  batts/min\n",
      "b'BPM: 108\\r\\n'\n",
      "[b'BPM:', b'108']\n",
      "BPM :  108.0  batts/min\n",
      "b'BPM: 114\\r\\n'\n",
      "[b'BPM:', b'114']\n",
      "BPM :  114.0  batts/min\n",
      "b'BPM: 107\\r\\n'\n",
      "[b'BPM:', b'107']\n",
      "BPM :  107.0  batts/min\n"
     ]
    }
   ],
   "source": [
    "# Essai pour une succession de 20 lignes de données\n",
    "liste_distance = []\n",
    "for k in range(20) :\n",
    "    line1 = Data.readline() \n",
    "    print (line1)\n",
    "    donnee=line1.strip().split()\n",
    "    print (donnee)\n",
    "\n",
    "    if len(donnee) !=0 : # parfois des lignes de données vides peuvent être envoyées, il faut les \"écarter\"\n",
    "        distance = float(donnee[1].decode())  # après consultation des données, nous choisissons le 5ème élément de listeDonnees\n",
    "        liste_distance.append(distance)\n",
    "        print (\"BPM : \", distance, \" batts/min\")\n",
    "\n",
    "Data.close()   # pour arrêter la lecture des données série"
   ]
  },
  {
   "cell_type": "code",
   "execution_count": 172,
   "metadata": {},
   "outputs": [
    {
     "name": "stdout",
     "output_type": "stream",
     "text": [
      "[101.0, 110.0, 109.0, 100.0, 107.0, 106.0, 116.0, 131.0, 129.0, 114.0, 108.0, 108.0, 114.0, 113.0, 114.0, 111.0, 103.0, 108.0, 114.0, 107.0]\n",
      "[101.0, 110.0, 109.0, 100.0, 107.0, 106.0, 116.0, 131.0, 129.0, 114.0, 108.0, 108.0, 114.0, 113.0, 114.0, 111.0, 103.0, 108.0, 114.0, 107.0]\n",
      "131.0\n"
     ]
    }
   ],
   "source": [
    "print(liste_distance)\n",
    "liste_distance_filtered = []\n",
    "for i in range(len(liste_distance)):\n",
    "    if (liste_distance[i]<200 and liste_distance[i] > 60) :\n",
    "        liste_distance_filtered.append(liste_distance[i])\n",
    "valfinale = np.max(liste_distance_filtered)\n",
    "print(liste_distance_filtered)\n",
    "print(valfinale)"
   ]
  },
  {
   "cell_type": "markdown",
   "metadata": {},
   "source": [
    "### Création des personnes"
   ]
  },
  {
   "cell_type": "markdown",
   "metadata": {},
   "source": [
    "Maintenant que nous avons la valeur du BPM, on créé un fichier txt avec les valeurs que l'on veut"
   ]
  },
  {
   "cell_type": "markdown",
   "metadata": {},
   "source": [
    "Création d'un personnage"
   ]
  },
  {
   "cell_type": "code",
   "execution_count": 217,
   "metadata": {},
   "outputs": [],
   "source": [
    "def attribus(valfinale):\n",
    "    Age = int(input(\"Votre age ?\"))\n",
    "    Sex = int(input(\"Votre sexe (0 masculin, 1 feminin)?\"))\n",
    "    chestPainType = int(input(\"Avez vous eu des douleurs à la poitrine (0 Atypical Angine, 1 Non Anginal Pain, 2 Asymptomatique, 3 Typical Angina)?\"))\n",
    "    RestingBP = int(input(\"Quelle est votre pression sanguine au repos(mm Hg) ?\"))\n",
    "    Cholesterol = int(input(\"Quelle est votre cholesterol(mm/dl) ?\"))\n",
    "    FastingBS = int(input(\"Votre glycémie ajeun ? (1 si >120 mg/dl 0 sinon)?\"))\n",
    "    RestingECG = int(input(\"Vos resultats d'ECG (0 Normal, 1 anormalité de l'onde ST-T, 2 Ventricular hypertrophy )?\"))\n",
    "    MaxHR = valfinale\n",
    "    ExerciseAngina = int(input(\"Avez vous eu une angine provoquée par de l'exercice (0 Non, 1 Oui)?\"))\n",
    "    OldPeak = int(input(\"Combien de millimetres fait la dépression de l'onde ST (0 (RAS), sinon renseigner valeur)?\")) # En bonne santé\n",
    "    ST_Slope = int(input(\"la pente du segment ST de l’exercice de pointe (0 Haut(Bon), 1 Plat(Mauvais), 2 Descend(Plutot mauvais))?\"))\n",
    "    return Age, Sex, chestPainType, RestingBP, Cholesterol, FastingBS, RestingECG,MaxHR, ExerciseAngina, OldPeak, ST_Slope\n"
   ]
  },
  {
   "cell_type": "markdown",
   "metadata": {},
   "source": [
    "Sex:  ['M' 'F']\n",
    "ChestPainType:  ['ATA' 'NAP' 'ASY' 'TA']\n",
    "RestingECG:  ['Normal' 'ST' 'LVH']\n",
    "ExerciseAngina:  ['N' 'Y']\n",
    "ST_Slope:  ['Up' 'Flat' 'Down']"
   ]
  },
  {
   "cell_type": "code",
   "execution_count": 219,
   "metadata": {},
   "outputs": [],
   "source": [
    "attribus_personnage = attribus(valfinale)"
   ]
  },
  {
   "cell_type": "markdown",
   "metadata": {},
   "source": [
    "21, 0, 1, 120, 180, 0, 0, 131.0, 0, 0.9050408719346048, 0"
   ]
  },
  {
   "cell_type": "markdown",
   "metadata": {},
   "source": [
    "### Predictions"
   ]
  },
  {
   "cell_type": "code",
   "execution_count": 220,
   "metadata": {},
   "outputs": [],
   "source": [
    "attribus_array = np.array(attribus_personnage)\n",
    "X_final = pd.DataFrame(data=[attribus_array], columns= hrv_features)"
   ]
  },
  {
   "cell_type": "code",
   "execution_count": 221,
   "metadata": {},
   "outputs": [
    {
     "data": {
      "text/html": [
       "<div>\n",
       "<style scoped>\n",
       "    .dataframe tbody tr th:only-of-type {\n",
       "        vertical-align: middle;\n",
       "    }\n",
       "\n",
       "    .dataframe tbody tr th {\n",
       "        vertical-align: top;\n",
       "    }\n",
       "\n",
       "    .dataframe thead th {\n",
       "        text-align: right;\n",
       "    }\n",
       "</style>\n",
       "<table border=\"1\" class=\"dataframe\">\n",
       "  <thead>\n",
       "    <tr style=\"text-align: right;\">\n",
       "      <th></th>\n",
       "      <th>Age</th>\n",
       "      <th>Sex</th>\n",
       "      <th>ChestPainType</th>\n",
       "      <th>RestingBP</th>\n",
       "      <th>Cholesterol</th>\n",
       "      <th>FastingBS</th>\n",
       "      <th>RestingECG</th>\n",
       "      <th>MaxHR</th>\n",
       "      <th>ExerciseAngina</th>\n",
       "      <th>Oldpeak</th>\n",
       "      <th>ST_Slope</th>\n",
       "    </tr>\n",
       "  </thead>\n",
       "  <tbody>\n",
       "    <tr>\n",
       "      <th>0</th>\n",
       "      <td>21.0</td>\n",
       "      <td>0.0</td>\n",
       "      <td>1.0</td>\n",
       "      <td>120.0</td>\n",
       "      <td>180.0</td>\n",
       "      <td>0.0</td>\n",
       "      <td>0.0</td>\n",
       "      <td>131.0</td>\n",
       "      <td>0.0</td>\n",
       "      <td>0.0</td>\n",
       "      <td>0.0</td>\n",
       "    </tr>\n",
       "  </tbody>\n",
       "</table>\n",
       "</div>"
      ],
      "text/plain": [
       "    Age  Sex  ChestPainType  RestingBP  Cholesterol  FastingBS  RestingECG  \\\n",
       "0  21.0  0.0            1.0      120.0        180.0        0.0         0.0   \n",
       "\n",
       "   MaxHR  ExerciseAngina  Oldpeak  ST_Slope  \n",
       "0  131.0             0.0      0.0       0.0  "
      ]
     },
     "execution_count": 221,
     "metadata": {},
     "output_type": "execute_result"
    }
   ],
   "source": [
    "X_final"
   ]
  },
  {
   "cell_type": "code",
   "execution_count": 228,
   "metadata": {},
   "outputs": [
    {
     "name": "stdout",
     "output_type": "stream",
     "text": [
      "[0]\n"
     ]
    }
   ],
   "source": [
    "y_final = model_catboost.predict(X_final)\n",
    "print(y_final)"
   ]
  },
  {
   "cell_type": "markdown",
   "metadata": {},
   "source": [
    "#### Individu malade"
   ]
  },
  {
   "cell_type": "markdown",
   "metadata": {},
   "source": [
    "Michel, 50 ans, a des douleurs thoracique lorsqu'il monte les marches menant à son appprtement, a une pression sanguine au repos de 130 mmHg, a un taux de cholesterol normal de 180 mg/dl (normal), a une glycémie à jeun nférieur à 120mg/dl(normal). Sur son ECG, on peut remarquer une dépression de l'onde ST (voire image) d'une valeur de 1 millimètre. On remarque aussi un downsloping sur l'onde ST (voir image)"
   ]
  },
  {
   "cell_type": "code",
   "execution_count": 231,
   "metadata": {},
   "outputs": [],
   "source": [
    "attribus_personnage = attribus(160)"
   ]
  },
  {
   "cell_type": "code",
   "execution_count": 232,
   "metadata": {},
   "outputs": [],
   "source": [
    "attribus_malade = np.array(attribus_personnage)\n",
    "X_malade = pd.DataFrame(data=[attribus_malade], columns= hrv_features)"
   ]
  },
  {
   "cell_type": "code",
   "execution_count": 233,
   "metadata": {},
   "outputs": [
    {
     "data": {
      "text/html": [
       "<div>\n",
       "<style scoped>\n",
       "    .dataframe tbody tr th:only-of-type {\n",
       "        vertical-align: middle;\n",
       "    }\n",
       "\n",
       "    .dataframe tbody tr th {\n",
       "        vertical-align: top;\n",
       "    }\n",
       "\n",
       "    .dataframe thead th {\n",
       "        text-align: right;\n",
       "    }\n",
       "</style>\n",
       "<table border=\"1\" class=\"dataframe\">\n",
       "  <thead>\n",
       "    <tr style=\"text-align: right;\">\n",
       "      <th></th>\n",
       "      <th>Age</th>\n",
       "      <th>Sex</th>\n",
       "      <th>ChestPainType</th>\n",
       "      <th>RestingBP</th>\n",
       "      <th>Cholesterol</th>\n",
       "      <th>FastingBS</th>\n",
       "      <th>RestingECG</th>\n",
       "      <th>MaxHR</th>\n",
       "      <th>ExerciseAngina</th>\n",
       "      <th>Oldpeak</th>\n",
       "      <th>ST_Slope</th>\n",
       "    </tr>\n",
       "  </thead>\n",
       "  <tbody>\n",
       "    <tr>\n",
       "      <th>0</th>\n",
       "      <td>50</td>\n",
       "      <td>0</td>\n",
       "      <td>3</td>\n",
       "      <td>130</td>\n",
       "      <td>180</td>\n",
       "      <td>0</td>\n",
       "      <td>1</td>\n",
       "      <td>160</td>\n",
       "      <td>1</td>\n",
       "      <td>0</td>\n",
       "      <td>2</td>\n",
       "    </tr>\n",
       "  </tbody>\n",
       "</table>\n",
       "</div>"
      ],
      "text/plain": [
       "   Age  Sex  ChestPainType  RestingBP  Cholesterol  FastingBS  RestingECG  \\\n",
       "0   50    0              3        130          180          0           1   \n",
       "\n",
       "   MaxHR  ExerciseAngina  Oldpeak  ST_Slope  \n",
       "0    160               1        0         2  "
      ]
     },
     "execution_count": 233,
     "metadata": {},
     "output_type": "execute_result"
    }
   ],
   "source": [
    "X_malade"
   ]
  },
  {
   "cell_type": "code",
   "execution_count": 234,
   "metadata": {},
   "outputs": [
    {
     "name": "stdout",
     "output_type": "stream",
     "text": [
      "[1]\n"
     ]
    }
   ],
   "source": [
    "y_malade = model_catboost.predict(X_malade)\n",
    "print(y_malade)"
   ]
  }
 ],
 "metadata": {
  "kernelspec": {
   "display_name": "base",
   "language": "python",
   "name": "python3"
  },
  "language_info": {
   "codemirror_mode": {
    "name": "ipython",
    "version": 3
   },
   "file_extension": ".py",
   "mimetype": "text/x-python",
   "name": "python",
   "nbconvert_exporter": "python",
   "pygments_lexer": "ipython3",
   "version": "3.11.5"
  }
 },
 "nbformat": 4,
 "nbformat_minor": 2
}
