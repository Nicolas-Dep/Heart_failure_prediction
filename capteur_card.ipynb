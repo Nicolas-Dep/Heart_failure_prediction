{
 "cells": [
  {
   "cell_type": "code",
   "execution_count": 85,
   "metadata": {},
   "outputs": [],
   "source": [
    "#Importation des modules\n",
    "import serial\n",
    "import serial.tools.list_ports   # pour la communication avec le port série\n",
    "import numpy as np\n",
    "#initialisation des listes\n",
    "liste_distance = []\n"
   ]
  },
  {
   "cell_type": "code",
   "execution_count": 86,
   "metadata": {},
   "outputs": [],
   "source": [
    "# Fonction pour la récupération des données série venant de la carte Arduino\n",
    "def recup_port_Arduino() :\n",
    "    ports = list(serial.tools.list_ports.comports())\n",
    "    for p in ports:\n",
    "        print(p.description)\n",
    "        if 'USB-SERIAL' in p.description :\n",
    "            mData = serial.Serial(p.device,9600)\n",
    "    print(mData.is_open) # Affiche et vérifie que le port est ouvert\n",
    "    print(mData.name) # Affiche le nom du port \n",
    "    return mData"
   ]
  },
  {
   "cell_type": "code",
   "execution_count": 87,
   "metadata": {},
   "outputs": [
    {
     "name": "stdout",
     "output_type": "stream",
     "text": [
      "Lien série sur Bluetooth standard (COM3)\n",
      "Lien série sur Bluetooth standard (COM4)\n",
      "USB-SERIAL CH340 (COM5)\n",
      "True\n",
      "COM5\n"
     ]
    }
   ],
   "source": [
    "#On remet la variable Data à 0 pour éviter un bug \n",
    "Data = {}\n",
    "Data = recup_port_Arduino()"
   ]
  },
  {
   "cell_type": "markdown",
   "metadata": {},
   "source": [
    "On récupère la première ligne (qui ne nous intéresse pas) et on teste la fonction split"
   ]
  },
  {
   "cell_type": "code",
   "execution_count": 88,
   "metadata": {},
   "outputs": [
    {
     "name": "stdout",
     "output_type": "stream",
     "text": [
      "b'PulseSensor object created successfully!\\r\\n'\n",
      "[b'PulseSensor', b'object', b'created', b'successfully!']\n"
     ]
    }
   ],
   "source": [
    "line1 = Data.readline() \n",
    "print (line1)\n",
    "donnee=line1.strip().split()\n",
    "print (donnee)"
   ]
  },
  {
   "cell_type": "code",
   "execution_count": 89,
   "metadata": {},
   "outputs": [
    {
     "name": "stdout",
     "output_type": "stream",
     "text": [
      "b'BPM: 39\\r\\n'\n",
      "[b'BPM:', b'39']\n",
      "BPM :  39.0  batts/min\n",
      "b'BPM: 40\\r\\n'\n",
      "[b'BPM:', b'40']\n",
      "BPM :  40.0  batts/min\n",
      "b'BPM: 45\\r\\n'\n",
      "[b'BPM:', b'45']\n",
      "BPM :  45.0  batts/min\n",
      "b'BPM: 52\\r\\n'\n",
      "[b'BPM:', b'52']\n",
      "BPM :  52.0  batts/min\n",
      "b'BPM: 75\\r\\n'\n",
      "[b'BPM:', b'75']\n",
      "BPM :  75.0  batts/min\n",
      "b'BPM: 112\\r\\n'\n",
      "[b'BPM:', b'112']\n",
      "BPM :  112.0  batts/min\n",
      "b'BPM: 122\\r\\n'\n",
      "[b'BPM:', b'122']\n",
      "BPM :  122.0  batts/min\n",
      "b'BPM: 109\\r\\n'\n",
      "[b'BPM:', b'109']\n",
      "BPM :  109.0  batts/min\n",
      "b'BPM: 119\\r\\n'\n",
      "[b'BPM:', b'119']\n",
      "BPM :  119.0  batts/min\n",
      "b'BPM: 123\\r\\n'\n",
      "[b'BPM:', b'123']\n",
      "BPM :  123.0  batts/min\n",
      "b'BPM: 151\\r\\n'\n",
      "[b'BPM:', b'151']\n",
      "BPM :  151.0  batts/min\n",
      "b'BPM: 162\\r\\n'\n",
      "[b'BPM:', b'162']\n",
      "BPM :  162.0  batts/min\n",
      "b'BPM: 123\\r\\n'\n",
      "[b'BPM:', b'123']\n",
      "BPM :  123.0  batts/min\n",
      "b'BPM: 125\\r\\n'\n",
      "[b'BPM:', b'125']\n",
      "BPM :  125.0  batts/min\n",
      "b'BPM: 114\\r\\n'\n",
      "[b'BPM:', b'114']\n",
      "BPM :  114.0  batts/min\n",
      "b'BPM: 118\\r\\n'\n",
      "[b'BPM:', b'118']\n",
      "BPM :  118.0  batts/min\n",
      "b'BPM: 110\\r\\n'\n",
      "[b'BPM:', b'110']\n",
      "BPM :  110.0  batts/min\n",
      "b'BPM: 110\\r\\n'\n",
      "[b'BPM:', b'110']\n",
      "BPM :  110.0  batts/min\n",
      "b'BPM: 114\\r\\n'\n",
      "[b'BPM:', b'114']\n",
      "BPM :  114.0  batts/min\n",
      "b'BPM: 129\\r\\n'\n",
      "[b'BPM:', b'129']\n",
      "BPM :  129.0  batts/min\n"
     ]
    }
   ],
   "source": [
    "# Essai pour une succession de 20 lignes de données\n",
    "liste_distance = []\n",
    "for k in range(20) :\n",
    "    line1 = Data.readline() \n",
    "    print (line1)\n",
    "    donnee=line1.strip().split()\n",
    "    print (donnee)\n",
    "\n",
    "    if len(donnee) !=0 : # parfois des lignes de données vides peuvent être envoyées, il faut les \"écarter\"\n",
    "        distance = float(donnee[1].decode())  # après consultation des données, nous choisissons le 5ème élément de listeDonnees\n",
    "        liste_distance.append(distance)\n",
    "        print (\"BPM : \", distance, \" batts/min\")\n",
    "\n",
    "Data.close()   # pour arrêter la lecture des données série"
   ]
  },
  {
   "cell_type": "code",
   "execution_count": 90,
   "metadata": {},
   "outputs": [
    {
     "name": "stdout",
     "output_type": "stream",
     "text": [
      "[39.0, 40.0, 45.0, 52.0, 75.0, 112.0, 122.0, 109.0, 119.0, 123.0, 151.0, 162.0, 123.0, 125.0, 114.0, 118.0, 110.0, 110.0, 114.0, 129.0]\n",
      "[75.0, 112.0, 122.0, 109.0, 119.0, 123.0, 151.0, 162.0, 123.0, 125.0, 114.0, 118.0, 110.0, 110.0, 114.0, 129.0]\n",
      "119.75\n"
     ]
    }
   ],
   "source": [
    "print(liste_distance)\n",
    "liste_distance_filtered = []\n",
    "for i in range(len(liste_distance)):\n",
    "    if (liste_distance[i]<200 and liste_distance[i] > 60) :\n",
    "        liste_distance_filtered.append(liste_distance[i])\n",
    "valfinale = np.average(liste_distance_filtered)\n",
    "print(liste_distance_filtered)\n",
    "print(valfinale)\n",
    "\n"
   ]
  },
  {
   "cell_type": "markdown",
   "metadata": {},
   "source": [
    "Maintenant que nous avons la valeur du BPM, on créé un fichier txt avec les valeurs que l'on veut"
   ]
  },
  {
   "cell_type": "markdown",
   "metadata": {},
   "source": [
    "Création d'un personnage"
   ]
  },
  {
   "cell_type": "code",
   "execution_count": null,
   "metadata": {},
   "outputs": [],
   "source": [
    "def attribus():\n",
    "    genre = int(input(\"Votre genre (1 masculin, 0 feminin)\"))\n",
    "\n",
    "    return genre\n"
   ]
  },
  {
   "cell_type": "code",
   "execution_count": null,
   "metadata": {},
   "outputs": [],
   "source": [
    "\n",
    "attribus_personnage = []\n"
   ]
  },
  {
   "cell_type": "code",
   "execution_count": null,
   "metadata": {},
   "outputs": [],
   "source": [
    "#Ecriture dans un fichier txt\n",
    "lines=['d\\n'] #première ligne du fichier txt\n",
    "for i in range (len (attribus_personnage)):\n",
    "    line = str(attribus_personnage[i])+','\n",
    "    lines.append(line)\n",
    "\n",
    "fichier = open('monfichier.txt', 'w')\n",
    "fichier.writelines(lines) #création d'un nouveau fichier texte\n"
   ]
  }
 ],
 "metadata": {
  "kernelspec": {
   "display_name": "base",
   "language": "python",
   "name": "python3"
  },
  "language_info": {
   "codemirror_mode": {
    "name": "ipython",
    "version": 3
   },
   "file_extension": ".py",
   "mimetype": "text/x-python",
   "name": "python",
   "nbconvert_exporter": "python",
   "pygments_lexer": "ipython3",
   "version": "3.11.5"
  }
 },
 "nbformat": 4,
 "nbformat_minor": 2
}
